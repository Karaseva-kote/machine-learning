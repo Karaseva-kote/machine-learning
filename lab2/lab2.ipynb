{
 "cells": [
  {
   "cell_type": "markdown",
   "metadata": {
    "collapsed": true,
    "pycharm": {
     "name": "#%% md\n"
    }
   },
   "source": [
    "# Лабораторная работа №2\n",
    "## Линейная регрессия\n",
    "Выполнила Карасева Екатерина M33351\n",
    "\n",
    "### Данные\n",
    "Выбранный набор данных из файла 4.txt:"
   ]
  },
  {
   "cell_type": "code",
   "execution_count": 287,
   "outputs": [
    {
     "data": {
      "text/plain": "(3415, 147)"
     },
     "execution_count": 287,
     "metadata": {},
     "output_type": "execute_result"
    }
   ],
   "source": [
    "filename = '4.txt'\n",
    "\n",
    "import pandas as pd\n",
    "import numpy as np\n",
    "\n",
    "\n",
    "# нормализация\n",
    "def min_max_normalize(arr):\n",
    "    min = np.min(arr)\n",
    "    max = np.max(arr)\n",
    "    return arr.apply(lambda x: (x - min) / (max - min) if max - min != 0 else 1.0)\n",
    "\n",
    "\n",
    "def normalise(ds):\n",
    "    for i in ds.columns:\n",
    "        ds[i] = min_max_normalize(ds[i])\n",
    "\n",
    "\n",
    "file = open(filename, 'r')\n",
    "m = file.__next__()\n",
    "m = int(m)\n",
    "train_n = file.__next__()\n",
    "train_n = int(train_n)\n",
    "train = pd.read_table(filename, sep='\\s+', skiprows=2, nrows=train_n, header=None)\n",
    "normalise(train)\n",
    "train = train.to_numpy()\n",
    "train.shape"
   ],
   "metadata": {
    "collapsed": false,
    "pycharm": {
     "name": "#%%\n"
    }
   }
  },
  {
   "cell_type": "code",
   "execution_count": 288,
   "outputs": [
    {
     "data": {
      "text/plain": "(256, 147)"
     },
     "execution_count": 288,
     "metadata": {},
     "output_type": "execute_result"
    }
   ],
   "source": [
    "from itertools import islice\n",
    "\n",
    "lines = islice(file, train_n, None)\n",
    "test_n = lines.__next__()\n",
    "test_n = int(test_n)\n",
    "test = pd.read_table(filename, sep='\\s+', skiprows=2 + train_n + 1, nrows=test_n, header=None)\n",
    "normalise(test)\n",
    "test = test.to_numpy()\n",
    "test.shape"
   ],
   "metadata": {
    "collapsed": false,
    "pycharm": {
     "name": "#%%\n"
    }
   }
  },
  {
   "cell_type": "markdown",
   "source": [
    "### Реализация метода наименьших квадратов"
   ],
   "metadata": {
    "collapsed": false,
    "pycharm": {
     "name": "#%% md\n"
    }
   }
  },
  {
   "cell_type": "code",
   "execution_count": 289,
   "outputs": [],
   "source": [
    "def least_squares_method(dataset: np.ndarray, tau):\n",
    "    f = np.delete(dataset, -1, axis=1)\n",
    "    _, num_features = f.shape\n",
    "    identity = np.identity(num_features)\n",
    "    f_transposed = np.transpose(f)\n",
    "    y = dataset[:, -1]\n",
    "    return np.linalg.inv(f_transposed @ f + tau * identity) @ f_transposed @ y\n",
    "\n",
    "# с гребневой регуляризацией"
   ],
   "metadata": {
    "collapsed": false,
    "pycharm": {
     "name": "#%%\n"
    }
   }
  },
  {
   "cell_type": "markdown",
   "source": [
    "### Реализация функций оценки"
   ],
   "metadata": {
    "collapsed": false,
    "pycharm": {
     "name": "#%% md\n"
    }
   }
  },
  {
   "cell_type": "code",
   "execution_count": 290,
   "outputs": [],
   "source": [
    "def smape(x, y):\n",
    "    return 2 * np.sum([abs(a - b) / (abs(a) + abs(b)) for a, b in zip(x, y)]) / len(x)\n",
    "\n",
    "\n",
    "def mse(x, y):\n",
    "    return np.sum([(a - b) * (a - b) for a, b in zip(x, y)]) / len(x)"
   ],
   "metadata": {
    "collapsed": false,
    "pycharm": {
     "name": "#%%\n"
    }
   }
  },
  {
   "cell_type": "markdown",
   "source": [
    "### График зависимости ошибки SMAPE и MSE на тестовом множестве от параметра регуляризации для метода наименьших квадратов"
   ],
   "metadata": {
    "collapsed": false,
    "pycharm": {
     "name": "#%% md\n"
    }
   }
  },
  {
   "cell_type": "code",
   "execution_count": 291,
   "outputs": [],
   "source": [
    "def plt_for_lsm():\n",
    "    smapeList = []\n",
    "    mseList = []\n",
    "    for i in range(1, 100):\n",
    "        w = least_squares_method(train, 1 / i)\n",
    "        f = np.delete(train, -1, axis=1)\n",
    "        target = train[:, -1]\n",
    "        predicted = np.array([np.dot(x, w) for x in f])\n",
    "        smapeList.append(smape(target, predicted))\n",
    "        mseList.append(mse(target, predicted))\n",
    "    return smapeList, mseList\n",
    "\n",
    "\n",
    "smapeLSM, mseLSM = plt_for_lsm()"
   ],
   "metadata": {
    "collapsed": false,
    "pycharm": {
     "name": "#%%\n"
    }
   }
  },
  {
   "cell_type": "code",
   "execution_count": 292,
   "outputs": [
    {
     "data": {
      "text/plain": "<Figure size 432x288 with 1 Axes>",
      "image/png": "[encoded data removed]"
     },
     "metadata": {
      "needs_background": "light"
     },
     "output_type": "display_data"
    }
   ],
   "source": [
    "import matplotlib.pyplot as plt\n",
    "\n",
    "plt.title('LSM')\n",
    "plt.plot([1 / i for i in range(1, 100)], smapeLSM, label='smape')\n",
    "plt.plot([1 / i for i in range(1, 100)], mseLSM, label='mse')\n",
    "plt.legend()\n",
    "plt.ylabel(\"metric\")\n",
    "plt.xlabel(\"tau\")\n",
    "plt.show()"
   ],
   "metadata": {
    "collapsed": false,
    "pycharm": {
     "name": "#%%\n"
    }
   }
  },
  {
   "cell_type": "markdown",
   "source": [
    "### Реализация градиентного стохастического метода"
   ],
   "metadata": {
    "collapsed": false,
    "pycharm": {
     "name": "#%% md\n"
    }
   }
  },
  {
   "cell_type": "code",
   "execution_count": 293,
   "outputs": [],
   "source": [
    "import random\n",
    "\n",
    "\n",
    "def diff_smape(x, w):\n",
    "    return np.array([x[i] * (np.sign(np.dot(x, np.append(w, -1))) * (np.abs(np.dot(x[: -1], w) + np.abs(x[-1]))\n",
    "                                - np.sign(np.dot(x[: -1], w)) * np.abs(np.dot(x, np.append(w, -1)))))\n",
    "                     / np.square(np.abs(np.dot(x[: -1], w) + np.abs(x[-1]))) for i in range(len(x) - 1)])\n",
    "\n",
    "\n",
    "def diff_mse(x, w):\n",
    "    return np.array([2 * x[i] * np.dot(x, np.append(w, -1)) for i in range(len(x) - 1)])\n",
    "\n",
    "\n",
    "def stochastic_gradient_descent_method(dataset: np.ndarray, tau, diff, metric):\n",
    "    num_objects, cols = dataset.shape\n",
    "    num_features = cols - 1\n",
    "\n",
    "    num_iterations = 2000\n",
    "    limit = 1 / (2 * num_features)\n",
    "    w = np.array([random.uniform(-limit, limit) for _ in range(num_features)])\n",
    "    w_list = list()\n",
    "    metric_vals = list()\n",
    "    metric_val = 1.\n",
    "    alfa = 1 / 500\n",
    "\n",
    "    for k in range(1, num_iterations + 1):\n",
    "        w_prev = w\n",
    "        object = dataset[(k - 1) % (num_objects - 1)]\n",
    "\n",
    "        regularized_diff = diff(object, w_prev) + tau * w_prev\n",
    "        mu = 1 / k\n",
    "        w = w_prev - mu * regularized_diff\n",
    "\n",
    "        target = object[-1]\n",
    "        predicted = np.dot(object[:-1], w)\n",
    "        metric_val = alfa * metric([target], [predicted]) + (1 - alfa) * metric_val\n",
    "\n",
    "        metric_vals.append(metric_val)\n",
    "        w_list.append(w)\n",
    "\n",
    "    return w_list, metric_vals\n",
    "\n",
    "\n",
    "# с регуляризацией LASSO\n",
    "\n",
    "smapeW, smapeGrad = stochastic_gradient_descent_method(train, 25, diff_smape, smape)\n",
    "mseW, mseGrad = stochastic_gradient_descent_method(train, 0.00001, diff_mse, mse)"
   ],
   "metadata": {
    "collapsed": false,
    "pycharm": {
     "name": "#%%\n"
    }
   }
  },
  {
   "cell_type": "markdown",
   "source": [
    "### Графики зависимости экспоненциального скользящего среднего функции ошибки от итерации"
   ],
   "metadata": {
    "collapsed": false,
    "pycharm": {
     "name": "#%% md\n"
    }
   }
  },
  {
   "cell_type": "code",
   "execution_count": 294,
   "outputs": [
    {
     "data": {
      "text/plain": "<Figure size 432x288 with 1 Axes>",
      "image/png": "[encoded data removed]"
     },
     "metadata": {
      "needs_background": "light"
     },
     "output_type": "display_data"
    }
   ],
   "source": [
    "plt.title('smape SGDM train')\n",
    "plt.plot(range(1, 2001), smapeGrad)\n",
    "plt.ylabel(\"smape\")\n",
    "plt.xlabel(\"i\")\n",
    "plt.show()"
   ],
   "metadata": {
    "collapsed": false,
    "pycharm": {
     "name": "#%%\n"
    }
   }
  },
  {
   "cell_type": "code",
   "execution_count": 295,
   "outputs": [
    {
     "data": {
      "text/plain": "<Figure size 432x288 with 1 Axes>",
      "image/png": "[encoded data removed]"
     },
     "metadata": {
      "needs_background": "light"
     },
     "output_type": "display_data"
    }
   ],
   "source": [
    "plt.title('mse SGDM train')\n",
    "plt.plot(range(1, 2001), mseGrad)\n",
    "plt.ylabel(\"mse\")\n",
    "plt.xlabel(\"i\")\n",
    "plt.show()"
   ],
   "metadata": {
    "collapsed": false,
    "pycharm": {
     "name": "#%%\n"
    }
   }
  },
  {
   "cell_type": "markdown",
   "source": [
    "### Оценка трёх методов на тестовом множестве данных при помощи NRMSE и SMAPE"
   ],
   "metadata": {
    "collapsed": false,
    "pycharm": {
     "name": "#%% md\n"
    }
   }
  },
  {
   "cell_type": "code",
   "execution_count": 296,
   "outputs": [
    {
     "name": "stdout",
     "output_type": "stream",
     "text": [
      "smape LSM: 0.4828608877792795\n"
     ]
    }
   ],
   "source": [
    "w = least_squares_method(train, 1 / 100)\n",
    "f = np.delete(test, -1, axis=1)\n",
    "target = test[:, -1]\n",
    "predicted = np.array([np.dot(x, w) for x in f])\n",
    "print('smape LSM: ' + str(smape(target, predicted)))"
   ],
   "metadata": {
    "collapsed": false,
    "pycharm": {
     "name": "#%%\n"
    }
   }
  },
  {
   "cell_type": "code",
   "execution_count": 297,
   "outputs": [],
   "source": [
    "def calc_moving_avg_smape(dataset: np.ndarray, w_list):\n",
    "    num_objects, cols = dataset.shape\n",
    "\n",
    "    smape_vals = list()\n",
    "    smape_val = 1.\n",
    "    alfa = 1 / 500\n",
    "    k = 0\n",
    "\n",
    "    for w in w_list:\n",
    "        object = dataset[k%(num_objects - 1)]\n",
    "        k += 1\n",
    "        target = object[-1]\n",
    "        predicted = np.dot(object[:-1], w)\n",
    "        smape_val = alfa * smape([target], [predicted]) + (1 - alfa) * smape_val\n",
    "        smape_vals.append(smape_val)\n",
    "\n",
    "    return smape_vals"
   ],
   "metadata": {
    "collapsed": false,
    "pycharm": {
     "name": "#%%\n"
    }
   }
  },
  {
   "cell_type": "code",
   "execution_count": 298,
   "outputs": [
    {
     "data": {
      "text/plain": "<Figure size 432x288 with 1 Axes>",
      "image/png": "[encoded data removed]"
     },
     "metadata": {
      "needs_background": "light"
     },
     "output_type": "display_data"
    }
   ],
   "source": [
    "smape_gd_test = calc_moving_avg_smape(test, smapeW)\n",
    "\n",
    "plt.title('SGDM SMAPE')\n",
    "plt.plot(range(1, len(smape_gd_test) + 1), smape_gd_test, label='test dataset')\n",
    "plt.legend(loc='upper center')\n",
    "plt.xlabel('iterations')\n",
    "plt.ylabel('SMAPE')\n",
    "plt.show()\n"
   ],
   "metadata": {
    "collapsed": false,
    "pycharm": {
     "name": "#%%\n"
    }
   }
  },
  {
   "cell_type": "code",
   "execution_count": 299,
   "outputs": [
    {
     "name": "stdout",
     "output_type": "stream",
     "text": [
      "smape SGDM SMAPE: 0.45264117022092715\n"
     ]
    }
   ],
   "source": [
    "w = smapeW[-1]\n",
    "f = np.delete(test, -1, axis=1)\n",
    "target = test[:, -1]\n",
    "predicted = np.array([np.dot(x, w) for x in f])\n",
    "print('smape SGDM SMAPE: ' + str(smape(target, predicted)))"
   ],
   "metadata": {
    "collapsed": false,
    "pycharm": {
     "name": "#%%\n"
    }
   }
  }
 ],
 "metadata": {
  "kernelspec": {
   "display_name": "Python 3",
   "language": "python",
   "name": "python3"
  },
  "language_info": {
   "codemirror_mode": {
    "name": "ipython",
    "version": 2
   },
   "file_extension": ".py",
   "mimetype": "text/x-python",
   "name": "python",
   "nbconvert_exporter": "python",
   "pygments_lexer": "ipython2",
   "version": "2.7.6"
  }
 },
 "nbformat": 4,
 "nbformat_minor": 0
}