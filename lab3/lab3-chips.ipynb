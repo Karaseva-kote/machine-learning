{
 "cells": [
  {
   "cell_type": "markdown",
   "metadata": {
    "collapsed": true,
    "pycharm": {
     "name": "#%% md\n"
    }
   },
   "source": [
    "# Лабораторная работа №3\n",
    "\n",
    "## Метод опорных векторов\n",
    "\n",
    "Выполнила Карасева Екатерина M33351\n",
    "\n",
    "### Данные"
   ]
  },
  {
   "cell_type": "code",
   "execution_count": 1,
   "outputs": [
    {
     "data": {
      "text/plain": "          x        y class\n0  0.051267  0.69956     P\n1 -0.092742  0.68494     P\n2 -0.213710  0.69225     P\n3 -0.375000  0.50219     P\n4 -0.513250  0.46564     P",
      "text/html": "<div>\n<style scoped>\n    .dataframe tbody tr th:only-of-type {\n        vertical-align: middle;\n    }\n\n    .dataframe tbody tr th {\n        vertical-align: top;\n    }\n\n    .dataframe thead th {\n        text-align: right;\n    }\n</style>\n<table border=\"1\" class=\"dataframe\">\n  <thead>\n    <tr style=\"text-align: right;\">\n      <th></th>\n      <th>x</th>\n      <th>y</th>\n      <th>class</th>\n    </tr>\n  </thead>\n  <tbody>\n    <tr>\n      <th>0</th>\n      <td>0.051267</td>\n      <td>0.69956</td>\n      <td>P</td>\n    </tr>\n    <tr>\n      <th>1</th>\n      <td>-0.092742</td>\n      <td>0.68494</td>\n      <td>P</td>\n    </tr>\n    <tr>\n      <th>2</th>\n      <td>-0.213710</td>\n      <td>0.69225</td>\n      <td>P</td>\n    </tr>\n    <tr>\n      <th>3</th>\n      <td>-0.375000</td>\n      <td>0.50219</td>\n      <td>P</td>\n    </tr>\n    <tr>\n      <th>4</th>\n      <td>-0.513250</td>\n      <td>0.46564</td>\n      <td>P</td>\n    </tr>\n  </tbody>\n</table>\n</div>"
     },
     "execution_count": 1,
     "metadata": {},
     "output_type": "execute_result"
    }
   ],
   "source": [
    "import pandas as pd\n",
    "\n",
    "data = pd.read_csv('chips.csv')\n",
    "data.head()"
   ],
   "metadata": {
    "collapsed": false,
    "pycharm": {
     "name": "#%%\n"
    }
   }
  },
  {
   "cell_type": "code",
   "execution_count": 2,
   "outputs": [
    {
     "data": {
      "text/plain": "          x        y  class\n0  0.051267  0.69956    1.0\n1 -0.092742  0.68494    1.0\n2 -0.213710  0.69225    1.0\n3 -0.375000  0.50219    1.0\n4 -0.513250  0.46564    1.0",
      "text/html": "<div>\n<style scoped>\n    .dataframe tbody tr th:only-of-type {\n        vertical-align: middle;\n    }\n\n    .dataframe tbody tr th {\n        vertical-align: top;\n    }\n\n    .dataframe thead th {\n        text-align: right;\n    }\n</style>\n<table border=\"1\" class=\"dataframe\">\n  <thead>\n    <tr style=\"text-align: right;\">\n      <th></th>\n      <th>x</th>\n      <th>y</th>\n      <th>class</th>\n    </tr>\n  </thead>\n  <tbody>\n    <tr>\n      <th>0</th>\n      <td>0.051267</td>\n      <td>0.69956</td>\n      <td>1.0</td>\n    </tr>\n    <tr>\n      <th>1</th>\n      <td>-0.092742</td>\n      <td>0.68494</td>\n      <td>1.0</td>\n    </tr>\n    <tr>\n      <th>2</th>\n      <td>-0.213710</td>\n      <td>0.69225</td>\n      <td>1.0</td>\n    </tr>\n    <tr>\n      <th>3</th>\n      <td>-0.375000</td>\n      <td>0.50219</td>\n      <td>1.0</td>\n    </tr>\n    <tr>\n      <th>4</th>\n      <td>-0.513250</td>\n      <td>0.46564</td>\n      <td>1.0</td>\n    </tr>\n  </tbody>\n</table>\n</div>"
     },
     "execution_count": 2,
     "metadata": {},
     "output_type": "execute_result"
    }
   ],
   "source": [
    "data['class'] = data['class'].apply(lambda x: 1. if x == 'P' else -1.)\n",
    "data.head()"
   ],
   "metadata": {
    "collapsed": false,
    "pycharm": {
     "name": "#%%\n"
    }
   }
  },
  {
   "cell_type": "code",
   "source": [
    "import numpy as np\n",
    "\n",
    "\n",
    "# нормализация\n",
    "def min_max_normalize(arr):\n",
    "    arr_min = np.min(arr)\n",
    "    arr_max = np.max(arr)\n",
    "    return arr.apply(lambda x: (x - arr_min) / (arr_max - arr_min) if arr_max - arr_min != 0 else 1.0)\n",
    "\n",
    "\n",
    "def normalise(ds):\n",
    "    for i in ds.columns:\n",
    "        if i != 'class':\n",
    "            ds[i] = min_max_normalize(ds[i])\n",
    "\n",
    "\n",
    "normalise(data)\n",
    "objects = data.drop(columns='class').to_numpy()\n",
    "target = data['class'].to_numpy()\n",
    "data.head()"
   ],
   "metadata": {
    "collapsed": false,
    "pycharm": {
     "name": "#%%\n"
    }
   },
   "execution_count": 3,
   "outputs": [
    {
     "data": {
      "text/plain": "          x         y  class\n0  0.463625  0.782108    1.0\n1  0.387869  0.774326    1.0\n2  0.324234  0.778217    1.0\n3  0.239388  0.677048    1.0\n4  0.166662  0.657593    1.0",
      "text/html": "<div>\n<style scoped>\n    .dataframe tbody tr th:only-of-type {\n        vertical-align: middle;\n    }\n\n    .dataframe tbody tr th {\n        vertical-align: top;\n    }\n\n    .dataframe thead th {\n        text-align: right;\n    }\n</style>\n<table border=\"1\" class=\"dataframe\">\n  <thead>\n    <tr style=\"text-align: right;\">\n      <th></th>\n      <th>x</th>\n      <th>y</th>\n      <th>class</th>\n    </tr>\n  </thead>\n  <tbody>\n    <tr>\n      <th>0</th>\n      <td>0.463625</td>\n      <td>0.782108</td>\n      <td>1.0</td>\n    </tr>\n    <tr>\n      <th>1</th>\n      <td>0.387869</td>\n      <td>0.774326</td>\n      <td>1.0</td>\n    </tr>\n    <tr>\n      <th>2</th>\n      <td>0.324234</td>\n      <td>0.778217</td>\n      <td>1.0</td>\n    </tr>\n    <tr>\n      <th>3</th>\n      <td>0.239388</td>\n      <td>0.677048</td>\n      <td>1.0</td>\n    </tr>\n    <tr>\n      <th>4</th>\n      <td>0.166662</td>\n      <td>0.657593</td>\n      <td>1.0</td>\n    </tr>\n  </tbody>\n</table>\n</div>"
     },
     "execution_count": 3,
     "metadata": {},
     "output_type": "execute_result"
    }
   ]
  },
  {
   "cell_type": "code",
   "execution_count": 4,
   "outputs": [
    {
     "data": {
      "text/plain": "<Figure size 432x288 with 1 Axes>",
      "image/png": "[encoded data removed]"
     },
     "metadata": {
      "needs_background": "light"
     },
     "output_type": "display_data"
    }
   ],
   "source": [
    "from matplotlib import pyplot as plt\n",
    "\n",
    "dataset = data.to_numpy()\n",
    "for i in range(len(dataset)):\n",
    "    features = dataset[i][:-1]\n",
    "    label = dataset[i][-1]\n",
    "    c = 'orchid' if label == -1 else 'red'\n",
    "    plt.scatter(features[0], features[1], color=c, s=50)\n",
    "plt.show()"
   ],
   "metadata": {
    "collapsed": false,
    "pycharm": {
     "name": "#%%\n"
    }
   }
  },
  {
   "cell_type": "markdown",
   "source": [
    "### Реализация алгоритма опорных векторов (встроенная подборка гиперпараметров)"
   ],
   "metadata": {
    "collapsed": false
   }
  },
  {
   "cell_type": "code",
   "execution_count": 5,
   "outputs": [],
   "source": [
    "def get_fun(x, y, kernel):\n",
    "    def fun(alfa):\n",
    "        summa = 0\n",
    "        for i in range(0, len(alfa)):\n",
    "            for j in range(0, len(alfa)):\n",
    "                summa += alfa[i] * alfa[j] * y[i] * y[j] * kernel(x[i], x[j])\n",
    "        return - np.sum(alfa) + 1 / 2 * summa\n",
    "\n",
    "    return fun\n",
    "\n",
    "\n",
    "def get_constraints(y):\n",
    "    def fun(alfa):\n",
    "        return np.sum(alfa * y)\n",
    "\n",
    "    return fun\n",
    "\n",
    "\n",
    "from scipy.optimize import minimize\n",
    "from sklearn.metrics import accuracy_score\n",
    "from sklearn.model_selection import KFold\n",
    "from statistics import median\n",
    "\n",
    "def svm(kernel):\n",
    "    kf = KFold(n_splits=2, shuffle=True)\n",
    "    C = [0.05, 0.1, 0.5, 1.0, 5.0, 10.0, 50.0, 100.0]\n",
    "    best_accuracy = -1.0\n",
    "    best_c = 0.05\n",
    "    for c in C:\n",
    "        sum_accuracy = 0\n",
    "        for train_ind, test_ind in kf.split(objects):\n",
    "            train_x, test_x = objects[train_ind], objects[test_ind]\n",
    "            train_y, test_y = target[train_ind], target[test_ind]\n",
    "            train_n, train_m = train_x.shape\n",
    "            alfa0 = [0] * train_n\n",
    "            b = [(0, c)] * train_n\n",
    "            res = minimize(get_fun(train_x, train_y, kernel), alfa0, bounds=b,\n",
    "                           constraints={'type': 'eq', 'fun': get_constraints(train_y), 'jac': lambda l: train_y})\n",
    "            cur_alfa = res.x\n",
    "            cur_w0 = get_w0(cur_alfa, train_x, train_y, kernel)\n",
    "            cur_classifier = get_classifier(cur_alfa, cur_w0, train_x, train_y, kernel)\n",
    "            cur_accuracy = get_accuracy(cur_classifier, test_x, test_y)\n",
    "            sum_accuracy += cur_accuracy\n",
    "        if sum_accuracy / 2 > best_accuracy:\n",
    "            best_accuracy = sum_accuracy / 2\n",
    "            best_c = c\n",
    "        print(best_c)\n",
    "    return best_c, best_accuracy\n",
    "\n",
    "\n",
    "def get_w0(alfa, x, y, kernel):\n",
    "    n, m = x.shape\n",
    "    w = [0] * m\n",
    "    for i in range(0, n):\n",
    "        w += alfa[i] * y[i] * x[i]\n",
    "    w0 = []\n",
    "    for i in range(0, n):\n",
    "        if alfa[i] > 0 and np.abs(y[i] * kernel(w, x[i]) - 1) < 0.01:\n",
    "            print('+ new w0')\n",
    "            w0 = np.append(w0, kernel(w, x[i]) - y[i])\n",
    "    return median(w0) if len(w0) > 0 else 0\n",
    "\n",
    "\n",
    "def get_classifier(alfa, w0, x, y, kernel):\n",
    "    n, m = x.shape\n",
    "\n",
    "    def fun(test_x):\n",
    "        summa = 0\n",
    "        for i in range(0, n):\n",
    "            summa += alfa[i] * y[i] * kernel(x[i], test_x)\n",
    "        return np.sign(summa - w0)\n",
    "\n",
    "    return fun\n",
    "\n",
    "\n",
    "def get_accuracy(classifier, test_x, test_y):\n",
    "    pred = []\n",
    "    for x in test_x:\n",
    "        pred = np.append(pred, classifier(x))\n",
    "    return accuracy_score(test_y, pred, normalize=True)\n",
    "\n",
    "def draw_plot(title, ds, clf):\n",
    "    plt.title(title)\n",
    "    min_x1, max_x1 = np.min(ds[:, 0]), np.max(ds[:, 0])\n",
    "    min_x2, max_x2 = np.min(ds[:, 1]), np.max(ds[:, 1])\n",
    "    dx1 = max_x1 - min_x1\n",
    "    dx2 = max_x2 - min_x2\n",
    "    step1 = 10\n",
    "    step2 = 60\n",
    "    for x1 in np.arange(min_x1 - dx1 / step1, max_x1 + dx1 / step1, dx1 / step2):\n",
    "        for x2 in np.arange(min_x2 - dx2 / step1, max_x2 + dx2 / step1, dx2 / step2):\n",
    "            z = clf([x1, x2])\n",
    "            c = 'w'\n",
    "            c = 'lightcoral' if z == 1 else c\n",
    "            c = 'lavenderblush' if z == -1 else c\n",
    "            plt.scatter(x1, x2, color=c, s=150, marker='s')\n",
    "    for i in range(len(ds)):\n",
    "        features, label = ds[i][:-1], ds[i][-1]\n",
    "        c = 'orchid' if label == -1 else 'red'\n",
    "        plt.scatter(features[0], features[1], color=c, s=50)\n",
    "    plt.show()\n",
    "\n",
    "def get_classifier_with_params(c, kernel, x, y) :\n",
    "    n, m = x.shape\n",
    "    alfa0 = [0] * n\n",
    "    b = [(0, c)] * n\n",
    "    res = minimize(get_fun(x, y, kernel), alfa0, bounds=b,\n",
    "                   constraints={'type': 'eq', 'fun': get_constraints(y), 'jac': lambda l: y})\n",
    "    alfa = res.x\n",
    "    print('alfa = ' + str(alfa))\n",
    "    w0 = get_w0(alfa, x, y, kernel)\n",
    "    return get_classifier(alfa, w0, x, y, kernel)"
   ],
   "metadata": {
    "collapsed": false,
    "pycharm": {
     "name": "#%%\n"
    }
   }
  },
  {
   "cell_type": "markdown",
   "source": [
    "### Линейное ядро"
   ],
   "metadata": {
    "collapsed": false,
    "pycharm": {
     "name": "#%% md\n"
    }
   }
  },
  {
   "cell_type": "code",
   "execution_count": 6,
   "outputs": [
    {
     "name": "stdout",
     "output_type": "stream",
     "text": [
      "0.05\n",
      "0.1\n",
      "0.1\n",
      "0.1\n",
      "0.1\n",
      "0.1\n",
      "0.1\n",
      "0.1\n",
      "alfa = [0.1       0.1       0.1       0.1       0.1       0.1       0.1\n",
      " 0.1       0.1       0.1       0.1       0.1       0.1       0.1\n",
      " 0.1       0.1       0.1       0.1       0.1       0.1       0.1\n",
      " 0.1       0.1       0.1       0.1       0.1       0.1       0.1\n",
      " 0.1       0.1       0.1       0.1       0.1       0.1       0.1\n",
      " 0.1       0.1       0.1       0.1       0.1       0.1       0.1\n",
      " 0.1       0.1       0.1       0.1       0.1       0.1       0.1\n",
      " 0.1       0.1       0.1       0.1       0.1       0.1       0.1\n",
      " 0.1       0.1       0.1       0.1       0.1       0.1       0.1\n",
      " 0.1       0.1       0.1       0.1       0.0368878 0.0631122 0.1\n",
      " 0.1       0.1       0.1       0.1       0.1       0.1       0.1\n",
      " 0.1       0.1       0.1       0.1       0.1       0.1       0.1\n",
      " 0.1       0.1       0.1       0.1       0.1       0.1       0.1\n",
      " 0.1       0.1       0.1       0.1       0.1       0.1       0.1\n",
      " 0.1       0.1       0.1       0.        0.1       0.1       0.1\n",
      " 0.1       0.1       0.1       0.1       0.1       0.1       0.1\n",
      " 0.1       0.1       0.1       0.1       0.1       0.1      ]\n",
      "classifier received\n"
     ]
    }
   ],
   "source": [
    "linear_classifier = get_classifier_with_params(svm(np.dot)[0], np.dot, objects, target)\n",
    "# linear_classifier = get_classifier_with_params(0.1, np.dot, objects, target)\n",
    "draw_plot('linear', dataset, linear_classifier)"
   ],
   "metadata": {
    "collapsed": false,
    "pycharm": {
     "name": "#%%\n"
    }
   }
  },
  {
   "cell_type": "code",
   "execution_count": 8,
   "outputs": [
    {
     "name": "stdout",
     "output_type": "stream",
     "text": [
      "0.05\n",
      "0.05\n",
      "0.05\n",
      "+ new w0\n",
      "0.05\n",
      "0.05\n",
      "0.05\n",
      "0.05\n",
      "0.05\n",
      "best_degree = 2\n",
      "0.05\n",
      "0.05\n",
      "0.05\n",
      "0.05\n",
      "5.0\n",
      "5.0\n",
      "5.0\n",
      "5.0\n",
      "best_degree = 3\n",
      "0.05\n",
      "0.05\n",
      "0.05\n",
      "0.05\n",
      "5.0\n",
      "5.0\n",
      "5.0\n",
      "5.0\n",
      "best_degree = 3\n",
      "0.05\n",
      "0.05\n",
      "0.5\n",
      "0.5\n",
      "0.5\n",
      "0.5\n",
      "0.5\n",
      "0.5\n",
      "best_degree = 3\n",
      "polynomial params: c = 5.0 d = 3\n",
      "alfa = [5.00000000e+00 5.00000000e+00 5.00000000e+00 5.00000000e+00\n",
      " 5.00000000e+00 5.00000000e+00 0.00000000e+00 0.00000000e+00\n",
      " 5.00000000e+00 5.00000000e+00 5.00000000e+00 5.00000000e+00\n",
      " 5.00000000e+00 5.00000000e+00 5.00000000e+00 5.00000000e+00\n",
      " 5.00000000e+00 5.00000000e+00 5.00000000e+00 5.00000000e+00\n",
      " 5.00000000e+00 5.00000000e+00 0.00000000e+00 0.00000000e+00\n",
      " 1.45828823e-12 5.00000000e+00 5.00000000e+00 5.00000000e+00\n",
      " 5.00000000e+00 5.00000000e+00 5.00000000e+00 5.00000000e+00\n",
      " 5.00000000e+00 5.00000000e+00 5.00000000e+00 4.77136761e+00\n",
      " 0.00000000e+00 5.00000000e+00 5.00000000e+00 5.00000000e+00\n",
      " 5.00000000e+00 5.00000000e+00 5.00000000e+00 5.00000000e+00\n",
      " 5.00000000e+00 5.00000000e+00 5.00000000e+00 5.00000000e+00\n",
      " 5.00000000e+00 5.00000000e+00 5.00000000e+00 5.00000000e+00\n",
      " 5.00000000e+00 5.00000000e+00 5.00000000e+00 5.00000000e+00\n",
      " 4.30858150e-11 1.19010879e-12 5.00000000e+00 5.00000000e+00\n",
      " 5.00000000e+00 5.00000000e+00 5.00000000e+00 5.00000000e+00\n",
      " 5.00000000e+00 2.02371321e-12 5.00000000e+00 8.10610991e-13\n",
      " 0.00000000e+00 5.00000000e+00 0.00000000e+00 3.88660983e-01\n",
      " 5.00000000e+00 5.00000000e+00 5.00000000e+00 5.00000000e+00\n",
      " 5.00000000e+00 5.00000000e+00 5.00000000e+00 5.00000000e+00\n",
      " 5.00000000e+00 5.00000000e+00 5.00000000e+00 5.00000000e+00\n",
      " 5.00000000e+00 5.00000000e+00 5.00000000e+00 5.00000000e+00\n",
      " 5.00000000e+00 5.00000000e+00 5.00000000e+00 5.00000000e+00\n",
      " 5.00000000e+00 5.00000000e+00 5.00000000e+00 0.00000000e+00\n",
      " 0.00000000e+00 5.00000000e+00 2.54063320e+00 3.57914895e-12\n",
      " 5.00000000e+00 0.00000000e+00 5.00000000e+00 5.00000000e+00\n",
      " 5.00000000e+00 5.00000000e+00 5.00000000e+00 5.00000000e+00\n",
      " 5.00000000e+00 5.00000000e+00 5.00000000e+00 5.00000000e+00\n",
      " 5.00000000e+00 5.00000000e+00 5.00000000e+00 1.84207343e+00\n",
      " 5.00000000e+00 5.00000000e+00]\n"
     ]
    },
    {
     "data": {
      "text/plain": "<Figure size 432x288 with 1 Axes>",
      "image/png": "[encoded data removed]"
     },
     "metadata": {
      "needs_background": "light"
     },
     "output_type": "display_data"
    }
   ],
   "source": [
    "def polynomial_kernel(degree):\n",
    "    def kernel(x, y):\n",
    "        return np.dot(np.transpose(x), y) ** degree\n",
    "\n",
    "    return kernel\n",
    "\n",
    "def get_polynomial_classifier() :\n",
    "    best_accuracy = -1.0\n",
    "    best_degree = 2\n",
    "    best_c = 0.05\n",
    "    D = [2, 3, 4, 5]\n",
    "    for degree in D :\n",
    "        c, accuracy = svm(polynomial_kernel(degree))\n",
    "        if accuracy > best_accuracy :\n",
    "            best_accuracy = accuracy\n",
    "            best_degree = degree\n",
    "            best_c = c\n",
    "        print('best_degree = ' + str(best_degree))\n",
    "    print('polynomial params: c = ' + str(best_c) + ' d = ' + str(best_degree))\n",
    "    return get_classifier_with_params(best_c, polynomial_kernel(best_degree), objects, target)\n",
    "\n",
    "polynomial_classifier = get_polynomial_classifier()\n",
    "draw_plot('polynomial', dataset, polynomial_classifier)"
   ],
   "metadata": {
    "collapsed": false,
    "pycharm": {
     "name": "#%%\n"
    }
   }
  },
  {
   "cell_type": "code",
   "execution_count": 6,
   "outputs": [
    {
     "name": "stdout",
     "output_type": "stream",
     "text": [
      "0.05\n",
      "0.05\n",
      "0.05\n",
      "0.05\n",
      "0.05\n",
      "0.05\n",
      "0.05\n",
      "0.05\n",
      "best_beta = 1\n",
      "0.05\n",
      "0.05\n",
      "0.05\n",
      "0.05\n",
      "0.05\n",
      "0.05\n",
      "0.05\n",
      "0.05\n",
      "best_beta = 1\n",
      "0.05\n",
      "0.1\n",
      "0.5\n",
      "0.5\n",
      "0.5\n",
      "0.5\n",
      "0.5\n",
      "0.5\n",
      "best_beta = 1\n",
      "0.05\n",
      "0.05\n",
      "0.05\n",
      "0.05\n",
      "+ new w0\n",
      "0.05\n",
      "0.05\n",
      "0.05\n",
      "0.05\n",
      "best_beta = 1\n",
      "0.05\n",
      "0.05\n",
      "0.05\n",
      "0.05\n",
      "0.05\n",
      "0.05\n",
      "0.05\n",
      "0.05\n",
      "best_beta = 5\n",
      "gaussian params: c = 0.05 d = 5\n",
      "alfa = [0.05       0.05       0.05       0.05       0.05       0.05\n",
      " 0.05       0.05       0.05       0.05       0.05       0.05\n",
      " 0.05       0.05       0.05       0.05       0.05       0.05\n",
      " 0.05       0.05       0.05       0.05       0.05       0.05\n",
      " 0.05       0.05       0.05       0.05       0.05       0.05\n",
      " 0.05       0.05       0.05       0.05       0.05       0.05\n",
      " 0.05       0.05       0.05       0.05       0.05       0.05\n",
      " 0.05       0.05       0.05       0.05       0.05       0.05\n",
      " 0.05       0.05       0.05       0.05       0.05       0.05\n",
      " 0.05       0.05       0.05       0.05       0.05       0.05\n",
      " 0.05       0.05       0.05       0.05       0.05       0.01851047\n",
      " 0.05       0.05       0.05       0.05       0.05       0.05\n",
      " 0.05       0.05       0.05       0.05       0.05       0.05\n",
      " 0.05       0.05       0.05       0.05       0.05       0.05\n",
      " 0.05       0.05       0.05       0.05       0.05       0.05\n",
      " 0.05       0.05       0.05       0.05       0.05       0.05\n",
      " 0.05       0.05       0.05       0.03148953 0.05       0.\n",
      " 0.05       0.05       0.05       0.05       0.05       0.05\n",
      " 0.05       0.05       0.05       0.05       0.05       0.05\n",
      " 0.05       0.05       0.05       0.05      ]\n"
     ]
    },
    {
     "data": {
      "text/plain": "<Figure size 432x288 with 1 Axes>",
      "image/png": "[encoded data removed]"
     },
     "metadata": {
      "needs_background": "light"
     },
     "output_type": "display_data"
    }
   ],
   "source": [
    "def gaussian_kernel(beta):\n",
    "    def kernel(x, y):\n",
    "        return np.exp(-beta * np.linalg.norm((x - y) ** 2))\n",
    "\n",
    "    return kernel\n",
    "\n",
    "def get_gaussian_classifier() :\n",
    "    best_accuracy = -1.0\n",
    "    best_beta = 2\n",
    "    best_c = 0.05\n",
    "    B = [1, 2, 3, 4, 5]\n",
    "    for beta in B :\n",
    "        c, accuracy = svm(gaussian_kernel(beta))\n",
    "        if accuracy > best_accuracy :\n",
    "            best_accuracy = accuracy\n",
    "            best_beta = beta\n",
    "            best_c = c\n",
    "        print('best_beta = ' + str(best_beta))\n",
    "    print('gaussian params: c = ' + str(best_c) + ' d = ' + str(best_beta))\n",
    "    return get_classifier_with_params(best_c, gaussian_kernel(best_beta), objects, target)\n",
    "\n",
    "gaussian_classifier = get_gaussian_classifier()\n",
    "# gaussian_classifier = get_classifier_with_params(5.0, gaussian_kernel(5), objects, target)\n",
    "draw_plot('gaussian', dataset, gaussian_classifier)"
   ],
   "metadata": {
    "collapsed": false,
    "pycharm": {
     "name": "#%%\n"
    }
   }
  }
 ],
 "metadata": {
  "kernelspec": {
   "display_name": "Python 3",
   "language": "python",
   "name": "python3"
  },
  "language_info": {
   "codemirror_mode": {
    "name": "ipython",
    "version": 2
   },
   "file_extension": ".py",
   "mimetype": "text/x-python",
   "name": "python",
   "nbconvert_exporter": "python",
   "pygments_lexer": "ipython2",
   "version": "2.7.6"
  }
 },
 "nbformat": 4,
 "nbformat_minor": 0
}