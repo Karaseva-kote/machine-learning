{
 "cells": [
  {
   "cell_type": "markdown",
   "metadata": {
    "collapsed": true,
    "pycharm": {
     "name": "#%% md\n"
    }
   },
   "source": [
    "# Лабораторная работа №3\n",
    "\n",
    "## Метод опорных векторов\n",
    "\n",
    "Выполнила Карасева Екатерина M33351\n",
    "\n",
    "### Данные"
   ]
  },
  {
   "cell_type": "code",
   "execution_count": 1,
   "outputs": [],
   "source": [
    "import pandas as pd\n",
    "\n",
    "data = pd.read_csv('geyser.csv')"
   ],
   "metadata": {
    "collapsed": false,
    "pycharm": {
     "name": "#%%\n"
    }
   }
  },
  {
   "cell_type": "code",
   "execution_count": 2,
   "outputs": [
    {
     "data": {
      "text/plain": "   x    y  class\n0  1  4.4   -1.0\n1  1  3.9   -1.0\n2  1  4.0    1.0\n3  1  4.0   -1.0\n4  1  3.5   -1.0",
      "text/html": "<div>\n<style scoped>\n    .dataframe tbody tr th:only-of-type {\n        vertical-align: middle;\n    }\n\n    .dataframe tbody tr th {\n        vertical-align: top;\n    }\n\n    .dataframe thead th {\n        text-align: right;\n    }\n</style>\n<table border=\"1\" class=\"dataframe\">\n  <thead>\n    <tr style=\"text-align: right;\">\n      <th></th>\n      <th>x</th>\n      <th>y</th>\n      <th>class</th>\n    </tr>\n  </thead>\n  <tbody>\n    <tr>\n      <th>0</th>\n      <td>1</td>\n      <td>4.4</td>\n      <td>-1.0</td>\n    </tr>\n    <tr>\n      <th>1</th>\n      <td>1</td>\n      <td>3.9</td>\n      <td>-1.0</td>\n    </tr>\n    <tr>\n      <th>2</th>\n      <td>1</td>\n      <td>4.0</td>\n      <td>1.0</td>\n    </tr>\n    <tr>\n      <th>3</th>\n      <td>1</td>\n      <td>4.0</td>\n      <td>-1.0</td>\n    </tr>\n    <tr>\n      <th>4</th>\n      <td>1</td>\n      <td>3.5</td>\n      <td>-1.0</td>\n    </tr>\n  </tbody>\n</table>\n</div>"
     },
     "execution_count": 2,
     "metadata": {},
     "output_type": "execute_result"
    }
   ],
   "source": [
    "data['class'] = data['class'].apply(lambda x: 1. if x == 'P' else -1.)\n",
    "data.head()"
   ],
   "metadata": {
    "collapsed": false,
    "pycharm": {
     "name": "#%%\n"
    }
   }
  },
  {
   "cell_type": "code",
   "execution_count": 3,
   "outputs": [
    {
     "data": {
      "text/plain": "     x         y  class\n0  0.0  0.771429   -1.0\n1  0.0  0.628571   -1.0\n2  0.0  0.657143    1.0\n3  0.0  0.657143   -1.0\n4  0.0  0.514286   -1.0",
      "text/html": "<div>\n<style scoped>\n    .dataframe tbody tr th:only-of-type {\n        vertical-align: middle;\n    }\n\n    .dataframe tbody tr th {\n        vertical-align: top;\n    }\n\n    .dataframe thead th {\n        text-align: right;\n    }\n</style>\n<table border=\"1\" class=\"dataframe\">\n  <thead>\n    <tr style=\"text-align: right;\">\n      <th></th>\n      <th>x</th>\n      <th>y</th>\n      <th>class</th>\n    </tr>\n  </thead>\n  <tbody>\n    <tr>\n      <th>0</th>\n      <td>0.0</td>\n      <td>0.771429</td>\n      <td>-1.0</td>\n    </tr>\n    <tr>\n      <th>1</th>\n      <td>0.0</td>\n      <td>0.628571</td>\n      <td>-1.0</td>\n    </tr>\n    <tr>\n      <th>2</th>\n      <td>0.0</td>\n      <td>0.657143</td>\n      <td>1.0</td>\n    </tr>\n    <tr>\n      <th>3</th>\n      <td>0.0</td>\n      <td>0.657143</td>\n      <td>-1.0</td>\n    </tr>\n    <tr>\n      <th>4</th>\n      <td>0.0</td>\n      <td>0.514286</td>\n      <td>-1.0</td>\n    </tr>\n  </tbody>\n</table>\n</div>"
     },
     "execution_count": 3,
     "metadata": {},
     "output_type": "execute_result"
    }
   ],
   "source": [
    "import numpy as np\n",
    "\n",
    "\n",
    "# нормализация\n",
    "def min_max_normalize(arr):\n",
    "    arr_min = np.min(arr)\n",
    "    arr_max = np.max(arr)\n",
    "    return arr.apply(lambda x: (x - arr_min) / (arr_max - arr_min) if arr_max - arr_min != 0 else 1.0)\n",
    "\n",
    "\n",
    "def normalise(ds):\n",
    "    for i in ds.columns:\n",
    "        if i != 'class':\n",
    "            ds[i] = min_max_normalize(ds[i])\n",
    "\n",
    "\n",
    "normalise(data)\n",
    "objects = data.drop(columns='class').to_numpy()\n",
    "target = data['class'].to_numpy()\n",
    "data.head()"
   ],
   "metadata": {
    "collapsed": false,
    "pycharm": {
     "name": "#%%\n"
    }
   }
  },
  {
   "cell_type": "code",
   "execution_count": 4,
   "outputs": [
    {
     "data": {
      "text/plain": "<Figure size 432x288 with 1 Axes>",
      "image/png": "[encoded data removed]"
     },
     "metadata": {
      "needs_background": "light"
     },
     "output_type": "display_data"
    }
   ],
   "source": [
    "from matplotlib import pyplot as plt\n",
    "\n",
    "dataset = data.to_numpy()\n",
    "for i in range(len(dataset)):\n",
    "    features = dataset[i][:-1]\n",
    "    label = dataset[i][-1]\n",
    "    c = 'orchid' if label == -1 else 'red'\n",
    "    plt.scatter(features[0], features[1], color=c, s=50)\n",
    "plt.show()"
   ],
   "metadata": {
    "collapsed": false,
    "pycharm": {
     "name": "#%%\n"
    }
   }
  },
  {
   "cell_type": "markdown",
   "source": [
    "### Реализация алгоритма опорных векторов (встроенная подборка гиперпараметров)"
   ],
   "metadata": {
    "collapsed": false,
    "pycharm": {
     "name": "#%% md\n"
    }
   }
  },
  {
   "cell_type": "code",
   "execution_count": 12,
   "outputs": [],
   "source": [
    "def get_fun(x, y, kernel):\n",
    "    def fun(alfa):\n",
    "        summa = 0\n",
    "        for i in range(0, len(alfa)):\n",
    "            for j in range(0, len(alfa)):\n",
    "                summa += alfa[i] * alfa[j] * y[i] * y[j] * kernel(x[i], x[j])\n",
    "        return - np.sum(alfa) + 1 / 2 * summa\n",
    "\n",
    "    return fun\n",
    "\n",
    "\n",
    "def get_constraints(y):\n",
    "    def fun(alfa):\n",
    "        return np.sum(alfa * y)\n",
    "\n",
    "    return fun\n",
    "\n",
    "\n",
    "from scipy.optimize import minimize\n",
    "from sklearn.metrics import accuracy_score\n",
    "from sklearn.model_selection import KFold\n",
    "from statistics import median\n",
    "\n",
    "\n",
    "def svm(kernel):\n",
    "    kf = KFold(n_splits=2, shuffle=True)\n",
    "    C = [0.05, 0.1, 0.5, 1.0, 5.0, 10.0, 50.0, 100.0]\n",
    "    best_accuracy = -1.0\n",
    "    best_c = 0.05\n",
    "    for c in C:\n",
    "        sum_accuracy = 0\n",
    "        for train_ind, test_ind in kf.split(objects):\n",
    "            train_x, test_x = objects[train_ind], objects[test_ind]\n",
    "            train_y, test_y = target[train_ind], target[test_ind]\n",
    "            train_n, train_m = train_x.shape\n",
    "            alfa0 = [0] * train_n\n",
    "            b = [(0, c)] * train_n\n",
    "            res = minimize(get_fun(train_x, train_y, kernel), alfa0, bounds=b,\n",
    "                           constraints={'type': 'eq', 'fun': get_constraints(train_y), 'jac': lambda l: train_y},\n",
    "                           options={'maxiter': 40})\n",
    "            cur_alfa = res.x\n",
    "            cur_w0 = get_w0(cur_alfa, train_x, train_y, kernel)\n",
    "            cur_classifier = get_classifier(cur_alfa, cur_w0, train_x, train_y, kernel)\n",
    "            cur_accuracy = get_accuracy(cur_classifier, test_x, test_y)\n",
    "            sum_accuracy += cur_accuracy\n",
    "        if sum_accuracy / 2 > best_accuracy:\n",
    "            best_accuracy = sum_accuracy / 2\n",
    "            best_c = c\n",
    "        print(best_c)\n",
    "    return best_c, best_accuracy\n",
    "\n",
    "\n",
    "def get_w0(alfa, x, y, kernel):\n",
    "    n, m = x.shape\n",
    "    w = [0] * m\n",
    "    for i in range(0, n):\n",
    "        w += alfa[i] * y[i] * x[i]\n",
    "    w0 = []\n",
    "    for i in range(0, n):\n",
    "        if alfa[i] > 0 and np.abs(y[i] * kernel(w, x[i]) - 1) < 0.01:\n",
    "            print('+ new w0')\n",
    "            w0 = np.append(w0, kernel(w, x[i]) - y[i])\n",
    "    return median(w0) if len(w0) > 0 else 0\n",
    "\n",
    "\n",
    "def get_classifier(alfa, w0, x, y, kernel):\n",
    "    n, m = x.shape\n",
    "\n",
    "    def fun(test_x):\n",
    "        summa = 0\n",
    "        for i in range(0, n):\n",
    "            summa += alfa[i] * y[i] * kernel(x[i], test_x)\n",
    "        return np.sign(summa - w0)\n",
    "\n",
    "    return fun\n",
    "\n",
    "\n",
    "def get_accuracy(classifier, test_x, test_y):\n",
    "    pred = []\n",
    "    for x in test_x:\n",
    "        pred = np.append(pred, classifier(x))\n",
    "    return accuracy_score(test_y, pred, normalize=True)"
   ],
   "metadata": {
    "collapsed": false,
    "pycharm": {
     "name": "#%%\n"
    }
   }
  },
  {
   "cell_type": "markdown",
   "source": [
    "### Линейное ядро"
   ],
   "metadata": {
    "collapsed": false,
    "pycharm": {
     "name": "#%% md\n"
    }
   }
  },
  {
   "cell_type": "code",
   "execution_count": 13,
   "outputs": [
    {
     "name": "stdout",
     "output_type": "stream",
     "text": [
      "0.05\n",
      "+ new w0\n",
      "+ new w0\n",
      "+ new w0\n",
      "0.1\n",
      "0.1\n",
      "0.1\n",
      "5.0\n",
      "5.0\n",
      "50.0\n",
      "50.0\n",
      "alfa = [0.00000000e+00 4.97977089e-09 5.00000000e+01 3.31860154e-09\n",
      " 5.00000000e+01 2.33382922e-09 3.74205804e+01 6.02479040e-11\n",
      " 1.09781666e-10 4.56783544e-11 1.09804798e-10 4.92939467e-11\n",
      " 5.00000000e+01 3.78744175e-10 1.12046508e-10 5.17232772e-09\n",
      " 5.00000000e+01 5.00000000e+01 3.34138627e-09 1.23498882e-10\n",
      " 2.52844703e-09 1.23412293e-10 5.00000000e+01 9.04323624e-11\n",
      " 4.65371547e-11 0.00000000e+00 0.00000000e+00 4.80170827e-09\n",
      " 5.86022321e-10 6.67629527e-01 5.54586426e-09 9.31329198e-11\n",
      " 4.37924927e-11 1.22904776e-10 6.07996753e-11 1.22793423e-10\n",
      " 4.38178129e-11 9.31124197e-11 5.00000000e+01 4.03537296e-09\n",
      " 5.00000000e+01 5.00000000e+01 5.00000000e+01 5.00000000e+01\n",
      " 8.64388796e-01 8.63942559e-01 8.63512514e-01 5.00000000e+01\n",
      " 0.00000000e+00 5.00000000e+01 5.00000000e+01 5.00000000e+01\n",
      " 5.00000000e+01 5.00000000e+01 1.92584431e-09 0.00000000e+00\n",
      " 3.09160534e-09 9.78189040e-10 5.00000000e+01 1.59871056e-11\n",
      " 9.78000226e-10 5.00000000e+01 3.84034896e-11 9.87107337e-11\n",
      " 5.00000000e+01 5.00000000e+01 5.00000000e+01 1.29636780e-10\n",
      " 3.57170756e-11 5.00000000e+01 5.00000000e+01 5.00000000e+01\n",
      " 1.16146981e-10 3.56327146e-11 1.16160390e-10 4.87946589e-09\n",
      " 1.29533357e-10 9.53780958e-11 1.02102222e-10 3.56048439e-11\n",
      " 5.00000000e+01 5.00000000e+01 2.08253502e-11 1.41066402e-09\n",
      " 1.31749165e-10 3.33798145e-09 1.31718914e-10 6.22665748e-11\n",
      " 2.45957810e-09 4.32526851e-09 1.41053550e-09 1.31641222e-10\n",
      " 0.00000000e+00 2.08982624e-11 2.65554516e-09 5.18363853e-10\n",
      " 5.00000000e+01 3.74773580e-09 5.06818408e-09 3.74744600e-09\n",
      " 5.00000000e+01 3.03441176e-11 1.13928732e-10 0.00000000e+00\n",
      " 2.32758329e-11 5.59014309e-11 3.74775622e-09 7.37478523e-09\n",
      " 4.55629939e-09 1.06455448e-09 1.59034596e-10 6.64910701e-11\n",
      " 7.47726411e-11 6.64385956e-11 2.26997012e-09 3.16408088e-09\n",
      " 2.12638087e-09 2.12649584e-09 5.00000000e+01 9.12236534e-12\n",
      " 0.00000000e+00 5.95071914e-11 5.00000000e+01 5.00000000e+01\n",
      " 5.00000000e+01 2.33893232e-09 1.59205583e+01 3.68200138e-09\n",
      " 5.00000000e+01 5.00000000e+01 5.00000000e+01 1.28135369e-09\n",
      " 0.00000000e+00 6.69009846e-11 1.70742666e-10 0.00000000e+00\n",
      " 6.00171879e-11 4.02949835e-09 5.00000000e+01 5.00000000e+01\n",
      " 3.42750886e+01 1.43996212e-10 2.46386169e-09 5.00000000e+01\n",
      " 0.00000000e+00 3.83098970e-11 1.60730187e-10 4.58022781e-11\n",
      " 2.46386418e-09 1.66739792e-09 5.00000000e+01 3.77446217e-09\n",
      " 2.48607799e-09 0.00000000e+00 6.10003323e-11 1.61873905e-10\n",
      " 6.24433622e-11 1.45464140e-10 6.08696943e-11 9.27456322e-11\n",
      " 2.48609449e-09 1.60366495e-09 3.77413412e-09 2.87219600e-09\n",
      " 1.62720918e-10 5.95536634e-11 4.29969777e-09 0.00000000e+00\n",
      " 5.99311208e-11 0.00000000e+00 7.84603546e-10 5.00000000e+01\n",
      " 1.81251549e-09 5.00000000e+01 7.84263600e-10 5.00000000e+01\n",
      " 1.81001542e-09 2.58041590e-09 5.00000000e+01 5.00000000e+01\n",
      " 1.47440954e-10 5.70462569e-11 2.05958634e-09 5.00000000e+01\n",
      " 6.15562489e-11 1.04589012e-10 6.13917972e-11 1.63899213e-10\n",
      " 5.70104328e-11 1.04493276e-10 3.96037197e-11 4.83847006e-09\n",
      " 6.15668848e-11 5.00000000e+01 1.71722715e-11 1.21410885e-09\n",
      " 5.00000000e+01 0.00000000e+00 4.02507104e-11 5.00000000e+01\n",
      " 3.28592751e-09 1.71879124e-11 1.09035964e-10 5.00000000e+01\n",
      " 1.28555657e-10 3.53007192e+01 3.28646076e-09 1.28948755e-10\n",
      " 3.51718277e-09 5.00000000e+01 0.00000000e+00 3.16421623e-10\n",
      " 5.00000000e+01 1.49416882e-10 3.16709326e-10 1.49301886e-10\n",
      " 2.26736743e-09 2.30118071e-11 5.00000000e+01 2.29279679e-11\n",
      " 3.34099300e-11 1.16621099e-10]\n",
      "classifier received\n"
     ]
    }
   ],
   "source": [
    "def get_classifier_with_params(c, kernel, x, y):\n",
    "    n, m = x.shape\n",
    "    alfa0 = [0] * n\n",
    "    b = [(0, c)] * n\n",
    "    res = minimize(get_fun(x, y, kernel), alfa0, bounds=b,\n",
    "                   constraints={'type': 'eq', 'fun': get_constraints(y), 'jac': lambda l: y}, options={'maxiter': 60})\n",
    "    alfa = res.x\n",
    "    print('alfa = ' + str(alfa))\n",
    "    w0 = get_w0(alfa, x, y, kernel)\n",
    "    return get_classifier(alfa, w0, x, y, kernel)\n",
    "\n",
    "\n",
    "linear_classifier = get_classifier_with_params(svm(np.dot)[0], np.dot, objects, target)\n",
    "# linear_classifier = get_classifier_with_params(10.0, np.dot, objects, target)\n",
    "print('classifier received')"
   ],
   "metadata": {
    "collapsed": false,
    "pycharm": {
     "name": "#%%\n"
    }
   }
  },
  {
   "cell_type": "code",
   "execution_count": 14,
   "outputs": [
    {
     "data": {
      "text/plain": "<Figure size 432x288 with 1 Axes>",
      "image/png": "[encoded data removed]"
     },
     "metadata": {
      "needs_background": "light"
     },
     "output_type": "display_data"
    }
   ],
   "source": [
    "def draw_plot(title, ds, clf):\n",
    "    plt.title(title)\n",
    "    min_x1, max_x1 = np.min(ds[:, 0]), np.max(ds[:, 0])\n",
    "    min_x2, max_x2 = np.min(ds[:, 1]), np.max(ds[:, 1])\n",
    "    dx1 = max_x1 - min_x1\n",
    "    dx2 = max_x2 - min_x2\n",
    "    step1 = 10\n",
    "    step2 = 60\n",
    "    for x1 in np.arange(min_x1 - dx1 / step1, max_x1 + dx1 / step1, dx1 / step2):\n",
    "        for x2 in np.arange(min_x2 - dx2 / step1, max_x2 + dx2 / step1, dx2 / step2):\n",
    "            z = clf([x1, x2])\n",
    "            c = 'w'\n",
    "            c = 'lightcoral' if z == 1 else c\n",
    "            c = 'lavenderblush' if z == -1 else c\n",
    "            plt.scatter(x1, x2, color=c, s=150, marker='s')\n",
    "    for i in range(len(ds)):\n",
    "        features, label = ds[i][:-1], ds[i][-1]\n",
    "        c = 'orchid' if label == -1 else 'red'\n",
    "        plt.scatter(features[0], features[1], color=c, s=50)\n",
    "    plt.show()\n",
    "\n",
    "\n",
    "draw_plot('linear', dataset, linear_classifier)"
   ],
   "metadata": {
    "collapsed": false,
    "pycharm": {
     "name": "#%%\n"
    }
   }
  },
  {
   "cell_type": "code",
   "execution_count": 8,
   "outputs": [
    {
     "name": "stdout",
     "output_type": "stream",
     "text": [
      "alfa = [5.00000000e-01 5.00000000e-01 5.00000000e-01 5.00000000e-01\n",
      " 5.00000000e-01 5.00000000e-01 5.00000000e-01 0.00000000e+00\n",
      " 5.00000000e-01 0.00000000e+00 5.00000000e-01 1.28101894e-12\n",
      " 5.00000000e-01 5.00000000e-01 5.00000000e-01 5.00000000e-01\n",
      " 5.00000000e-01 5.00000000e-01 5.00000000e-01 5.00000000e-01\n",
      " 5.00000000e-01 5.00000000e-01 5.00000000e-01 5.00000000e-01\n",
      " 2.13100578e-13 5.00000000e-01 0.00000000e+00 5.00000000e-01\n",
      " 5.00000000e-01 5.00000000e-01 5.00000000e-01 5.00000000e-01\n",
      " 0.00000000e+00 5.00000000e-01 0.00000000e+00 5.00000000e-01\n",
      " 0.00000000e+00 5.00000000e-01 5.00000000e-01 5.00000000e-01\n",
      " 5.00000000e-01 5.00000000e-01 5.00000000e-01 5.00000000e-01\n",
      " 5.00000000e-01 5.00000000e-01 5.00000000e-01 5.00000000e-01\n",
      " 4.02256790e-13 5.00000000e-01 5.00000000e-01 5.00000000e-01\n",
      " 5.00000000e-01 5.00000000e-01 5.00000000e-01 0.00000000e+00\n",
      " 5.00000000e-01 5.00000000e-01 5.00000000e-01 5.00000000e-01\n",
      " 5.00000000e-01 5.00000000e-01 0.00000000e+00 5.00000000e-01\n",
      " 5.00000000e-01 5.00000000e-01 5.00000000e-01 5.00000000e-01\n",
      " 0.00000000e+00 5.00000000e-01 5.00000000e-01 5.00000000e-01\n",
      " 5.00000000e-01 0.00000000e+00 5.00000000e-01 5.00000000e-01\n",
      " 5.00000000e-01 1.38737924e-13 5.00000000e-01 0.00000000e+00\n",
      " 5.00000000e-01 5.00000000e-01 5.00000000e-01 3.00488663e-01\n",
      " 5.00000000e-01 5.00000000e-01 5.00000000e-01 0.00000000e+00\n",
      " 5.00000000e-01 5.00000000e-01 3.00487261e-01 5.00000000e-01\n",
      " 0.00000000e+00 5.00000000e-01 5.00000000e-01 0.00000000e+00\n",
      " 5.00000000e-01 5.00000000e-01 5.00000000e-01 5.00000000e-01\n",
      " 5.00000000e-01 0.00000000e+00 5.00000000e-01 0.00000000e+00\n",
      " 5.00000000e-01 0.00000000e+00 5.00000000e-01 5.00000000e-01\n",
      " 5.74414143e-13 0.00000000e+00 7.70168523e-13 0.00000000e+00\n",
      " 0.00000000e+00 0.00000000e+00 5.00000000e-01 3.74625562e-13\n",
      " 1.57393603e-13 1.56223500e-13 5.00000000e-01 0.00000000e+00\n",
      " 0.00000000e+00 0.00000000e+00 5.00000000e-01 5.00000000e-01\n",
      " 5.00000000e-01 2.33149974e-13 5.00000000e-01 4.43276892e-13\n",
      " 5.00000000e-01 5.00000000e-01 5.00000000e-01 6.37443809e-15\n",
      " 0.00000000e+00 0.00000000e+00 0.00000000e+00 0.00000000e+00\n",
      " 0.00000000e+00 4.94338522e-13 5.00000000e-01 5.00000000e-01\n",
      " 5.00000000e-01 0.00000000e+00 2.98974960e-13 5.00000000e-01\n",
      " 0.00000000e+00 0.00000000e+00 0.00000000e+00 0.00000000e+00\n",
      " 3.01181806e-13 1.48816917e-13 5.00000000e-01 5.51230350e-13\n",
      " 3.59944063e-13 0.00000000e+00 0.00000000e+00 0.00000000e+00\n",
      " 0.00000000e+00 0.00000000e+00 0.00000000e+00 0.00000000e+00\n",
      " 3.58091401e-13 0.00000000e+00 5.50411915e-13 4.14762372e-13\n",
      " 0.00000000e+00 0.00000000e+00 5.95688657e-13 0.00000000e+00\n",
      " 0.00000000e+00 0.00000000e+00 0.00000000e+00 5.00000000e-01\n",
      " 7.55233186e-13 5.00000000e-01 0.00000000e+00 5.00000000e-01\n",
      " 7.57173050e-13 0.00000000e+00 5.00000000e-01 5.00000000e-01\n",
      " 2.68046882e-13 0.00000000e+00 2.67667144e-13 5.00000000e-01\n",
      " 0.00000000e+00 0.00000000e+00 0.00000000e+00 8.24029629e-14\n",
      " 0.00000000e+00 0.00000000e+00 0.00000000e+00 6.30422260e-13\n",
      " 0.00000000e+00 5.00000000e-01 0.00000000e+00 1.10898901e-13\n",
      " 5.00000000e-01 0.00000000e+00 0.00000000e+00 1.00975924e-01\n",
      " 6.63111718e-13 0.00000000e+00 0.00000000e+00 5.00000000e-01\n",
      " 6.73496039e-13 1.01020696e-12 6.61701926e-13 9.25715385e-13\n",
      " 5.25742711e-13 0.00000000e+00 0.00000000e+00 0.00000000e+00\n",
      " 5.00000000e-01 7.13117888e-13 0.00000000e+00 7.14347677e-13\n",
      " 3.53078998e-13 2.51422646e-14 0.00000000e+00 2.57047781e-14\n",
      " 0.00000000e+00 2.61922604e-13]\n"
     ]
    },
    {
     "data": {
      "text/plain": "<Figure size 432x288 with 1 Axes>",
      "image/png": "[encoded data removed]"
     },
     "metadata": {
      "needs_background": "light"
     },
     "output_type": "display_data"
    }
   ],
   "source": [
    "def polynomial_kernel(degree):\n",
    "    def kernel(x, y):\n",
    "        return np.dot(np.transpose(x), y) ** degree\n",
    "\n",
    "    return kernel\n",
    "\n",
    "\n",
    "def get_polynomial_classifier():\n",
    "    best_accuracy = -1.0\n",
    "    best_degree = 2\n",
    "    best_c = 0.05\n",
    "    D = [2, 3, 4, 5]\n",
    "    for degree in D:\n",
    "        c, accuracy = svm(polynomial_kernel(degree))\n",
    "        if accuracy > best_accuracy:\n",
    "            best_accuracy = accuracy\n",
    "            best_degree = degree\n",
    "            best_c = c\n",
    "        print('best_degree = ' + str(best_degree))\n",
    "    print('polynomial params: c = ' + str(best_c) + ' d = ' + str(best_degree))\n",
    "    return get_classifier_with_params(best_c, polynomial_kernel(best_degree), objects, target)\n",
    "\n",
    "\n",
    "# polynomial_classifier = get_polynomial_classifier()\n",
    "polynomial_classifier = get_classifier_with_params(0.5, polynomial_kernel(3), objects, target)\n",
    "draw_plot('polynomial', dataset, polynomial_classifier)"
   ],
   "metadata": {
    "collapsed": false,
    "pycharm": {
     "name": "#%%\n"
    }
   }
  },
  {
   "cell_type": "code",
   "execution_count": 9,
   "outputs": [
    {
     "name": "stdout",
     "output_type": "stream",
     "text": [
      "alfa = [4.24530066e-02 1.00000000e-01 1.00000000e-01 1.00000000e-01\n",
      " 1.00000000e-01 1.00000000e-01 1.00000000e-01 2.84879169e-14\n",
      " 1.00000000e-01 3.68666618e-14 1.00000000e-01 2.27739811e-13\n",
      " 1.00000000e-01 1.00000000e-01 1.00000000e-01 1.00000000e-01\n",
      " 1.00000000e-01 1.00000000e-01 1.00000000e-01 1.00000000e-01\n",
      " 1.00000000e-01 1.00000000e-01 1.00000000e-01 1.00000000e-01\n",
      " 6.15162591e-14 1.00000000e-01 1.31246254e-13 1.00000000e-01\n",
      " 5.24890766e-02 1.00000000e-01 1.00000000e-01 1.00000000e-01\n",
      " 2.64982230e-14 1.00000000e-01 3.39688435e-14 1.00000000e-01\n",
      " 2.81841167e-14 1.00000000e-01 1.00000000e-01 1.00000000e-01\n",
      " 1.00000000e-01 1.00000000e-01 1.00000000e-01 1.00000000e-01\n",
      " 1.00000000e-01 1.00000000e-01 1.00000000e-01 1.00000000e-01\n",
      " 2.31400118e-14 1.00000000e-01 1.00000000e-01 1.00000000e-01\n",
      " 1.00000000e-01 1.00000000e-01 1.00000000e-01 1.18127245e-13\n",
      " 1.00000000e-01 2.12818634e-13 1.00000000e-01 1.00000000e-01\n",
      " 2.15239417e-13 1.00000000e-01 3.32061276e-14 1.00000000e-01\n",
      " 1.00000000e-01 1.00000000e-01 1.00000000e-01 1.00000000e-01\n",
      " 3.67429340e-14 1.00000000e-01 1.00000000e-01 1.00000000e-01\n",
      " 3.97621524e-14 3.72822907e-14 3.74191238e-14 1.00000000e-01\n",
      " 1.00000000e-01 1.92920258e-14 1.00000000e-01 3.44912121e-14\n",
      " 1.00000000e-01 1.00000000e-01 1.00000000e-01 2.00414707e-13\n",
      " 1.46981534e-13 1.00000000e-01 1.47574383e-13 4.90247288e-14\n",
      " 1.00000000e-01 1.00000000e-01 2.02274761e-13 1.46483208e-13\n",
      " 2.83658391e-14 1.00000000e-01 1.00000000e-01 2.07228779e-14\n",
      " 1.00000000e-01 1.00000000e-01 1.00000000e-01 1.00000000e-01\n",
      " 1.00000000e-01 4.14356659e-14 1.00000000e-01 2.87118961e-14\n",
      " 1.00000000e-01 6.34056779e-14 1.00000000e-01 1.00000000e-01\n",
      " 1.00000000e-01 1.09303639e-14 6.32919654e-14 3.90687611e-14\n",
      " 1.00000000e-01 3.91895480e-14 1.00000000e-01 1.00000000e-01\n",
      " 0.00000000e+00 0.00000000e+00 1.00000000e-01 2.60333442e-14\n",
      " 1.00000000e-01 4.45201601e-14 1.00000000e-01 1.00000000e-01\n",
      " 1.00000000e-01 1.96814068e-14 1.00000000e-01 1.00000000e-01\n",
      " 1.00000000e-01 1.00000000e-01 1.00000000e-01 4.24492594e-15\n",
      " 1.00000000e-01 3.16437516e-14 1.83848569e-14 1.00000000e-01\n",
      " 3.56033528e-14 1.00000000e-01 1.00000000e-01 1.00000000e-01\n",
      " 1.00000000e-01 8.06872472e-14 7.25324714e-14 1.00000000e-01\n",
      " 1.00000000e-01 6.50023011e-14 6.90355874e-14 5.50404720e-14\n",
      " 7.34478498e-14 1.08704549e-13 1.00000000e-01 1.00000000e-01\n",
      " 1.00000000e-01 1.00000000e-01 2.55408860e-14 1.03033454e-13\n",
      " 1.35878620e-14 8.14890791e-14 2.51257992e-14 1.00000000e-01\n",
      " 1.00000000e-01 1.00000000e-01 1.00000000e-01 1.00000000e-01\n",
      " 4.78603024e-14 3.98255241e-15 1.00000000e-01 1.00000000e-01\n",
      " 4.11615661e-15 1.00000000e-01 2.78699013e-14 1.00000000e-01\n",
      " 1.00000000e-01 1.00000000e-01 2.95246276e-14 1.00000000e-01\n",
      " 1.00000000e-01 1.00000000e-01 1.00000000e-01 1.00000000e-01\n",
      " 8.15546734e-14 0.00000000e+00 1.00000000e-01 1.00000000e-01\n",
      " 4.16686339e-15 1.00000000e-01 4.91778859e-15 1.00000000e-01\n",
      " 0.00000000e+00 1.00000000e-01 3.42704855e-14 1.00000000e-01\n",
      " 5.04764890e-15 1.00000000e-01 1.00000000e-01 5.11260302e-02\n",
      " 1.00000000e-01 1.00000000e-01 2.34475525e-14 1.00000000e-01\n",
      " 1.00000000e-01 1.00000000e-01 2.55255313e-13 1.00000000e-01\n",
      " 8.90439015e-14 1.00000000e-01 1.00000000e-01 1.13173725e-13\n",
      " 1.00000000e-01 1.00000000e-01 1.00000000e-01 1.78712879e-13\n",
      " 1.00000000e-01 2.30332478e-02 1.78155230e-13 2.30348656e-02\n",
      " 1.00000000e-01 1.00000000e-01 1.00000000e-01 1.00000000e-01\n",
      " 2.12610623e-14 1.00000000e-01]\n"
     ]
    },
    {
     "data": {
      "text/plain": "<Figure size 432x288 with 1 Axes>",
      "image/png": "[encoded data removed]"
     },
     "metadata": {
      "needs_background": "light"
     },
     "output_type": "display_data"
    }
   ],
   "source": [
    "def gaussian_kernel(beta):\n",
    "    def kernel(x, y):\n",
    "        return np.exp(-beta * np.linalg.norm((x - y) ** 2))\n",
    "\n",
    "    return kernel\n",
    "\n",
    "\n",
    "def get_gaussian_classifier():\n",
    "    best_accuracy = -1.0\n",
    "    best_beta = 2\n",
    "    best_c = 0.05\n",
    "    B = [1, 2, 3, 4, 5]\n",
    "    for beta in B:\n",
    "        c, accuracy = svm(gaussian_kernel(beta))\n",
    "        if accuracy > best_accuracy:\n",
    "            best_accuracy = accuracy\n",
    "            best_beta = beta\n",
    "            best_c = c\n",
    "        print('best_beta = ' + str(best_beta))\n",
    "    print('gaussian params: c = ' + str(best_c) + ' d = ' + str(best_beta))\n",
    "    return get_classifier_with_params(best_c, gaussian_kernel(best_beta), objects, target)\n",
    "\n",
    "\n",
    "# gaussian_classifier = get_gaussian_classifier()\n",
    "gaussian_classifier = get_classifier_with_params(0.1, gaussian_kernel(1), objects, target)\n",
    "draw_plot('gaussian', dataset, gaussian_classifier)"
   ],
   "metadata": {
    "collapsed": false,
    "pycharm": {
     "name": "#%%\n"
    }
   }
  }
 ],
 "metadata": {
  "kernelspec": {
   "display_name": "Python 3",
   "language": "python",
   "name": "python3"
  },
  "language_info": {
   "codemirror_mode": {
    "name": "ipython",
    "version": 2
   },
   "file_extension": ".py",
   "mimetype": "text/x-python",
   "name": "python",
   "nbconvert_exporter": "python",
   "pygments_lexer": "ipython2",
   "version": "2.7.6"
  }
 },
 "nbformat": 4,
 "nbformat_minor": 0
}