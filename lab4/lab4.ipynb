{
 "cells": [
  {
   "cell_type": "markdown",
   "metadata": {
    "collapsed": true,
    "pycharm": {
     "name": "#%% md\n"
    }
   },
   "source": [
    "# Лабораторная работа №4\n",
    "Выполнила Карасева Екатерина M33351\n",
    "\n",
    "## Наивный байесовский классификатор"
   ]
  },
  {
   "cell_type": "code",
   "execution_count": 40,
   "outputs": [],
   "source": [
    "import glob\n",
    "import pandas as pd\n",
    "import numpy as np\n",
    "\n",
    "\n",
    "def main():\n",
    "    table = [read_package(i) for i in range(1, 11)]\n",
    "    n_grams = [1, 2, 3]\n",
    "    alphas = [1e-3, 1e-4, 1e-5, 1e-6, 1e-10]\n",
    "    results = {'accuracy': [], 'n': [], 'alpha': []}\n",
    "    for n in n_grams:\n",
    "        table_ngram = list(map(lambda pack: list(map(lambda file: get_ngrams(file, n), pack)), table))\n",
    "        for alpha in alphas:\n",
    "            accuracy, _ = kfold(table_ngram, alpha, [1, 0])\n",
    "            results['accuracy'].append(accuracy)\n",
    "            results['n'].append(n)\n",
    "            results['alpha'].append('{:.0e}'.format(alpha))\n",
    "    results = pd.DataFrame.from_dict(results)\n",
    "    results = results.sort_values(by=['accuracy'], ascending=False)\n",
    "    return results\n",
    "\n",
    "\n",
    "def read_package(index):\n",
    "    root = 'messages'\n",
    "    dataset = []\n",
    "    path = '{}/part{}'.format(root, index)\n",
    "    for filename in glob.glob('{}/*.txt'.format(path)):\n",
    "        y = int('spm' in filename)\n",
    "        message = parse_file(filename)\n",
    "        dataset.append((message, y))\n",
    "    return dataset\n",
    "\n",
    "\n",
    "def parse_file(filename):\n",
    "    f = open(filename, 'r')\n",
    "    subject = list(map(int, f.readline().split()[1:]))\n",
    "    f.readline()\n",
    "    message = list(map(int, f.readline().split()))\n",
    "    return {'subject': subject, 'message': message}\n",
    "\n",
    "\n",
    "def get_ngrams(file, n):\n",
    "    return set(process_grams(file[0]['subject'], n) + process_grams(file[0]['message'], n)), file[1]\n",
    "\n",
    "\n",
    "def process_grams(a, n):\n",
    "    indices = [i for i in range(len(a) + 1 - n)]\n",
    "    grams = list(map(lambda ind: a[ind:(ind + n)], indices))\n",
    "    return list(map(map_gram, grams))\n",
    "\n",
    "\n",
    "def map_gram(g):\n",
    "    multiplier = 1\n",
    "    result = 0\n",
    "    for i in range(len(g)):\n",
    "        result += g[i] * multiplier\n",
    "        multiplier *= 100000\n",
    "    return result\n",
    "\n",
    "\n",
    "def kfold(table, alpha, logged_lambdas=[0, 0]):\n",
    "    accuracies = []\n",
    "    cnt = 0\n",
    "    for i in range(0, 10):\n",
    "        train = []\n",
    "        for j in range(0, 10):\n",
    "            if j != i:\n",
    "                train += table[j]\n",
    "        test = table[i]\n",
    "        prediction = bayes_classifier(train, test, alpha, logged_lambdas)\n",
    "        test_acc, cnt_false_legit = get_acc(prediction)\n",
    "        cnt += cnt_false_legit\n",
    "        accuracies.append(test_acc)\n",
    "    return np.mean(accuracies), cnt\n",
    "\n",
    "\n",
    "def bayes_classifier(train, test, alpha=1e-10, logged_lambdas=[0, 0]):\n",
    "    train_size = len(train)\n",
    "    count = [{}, {}]\n",
    "    classes_counter = [0, 0]\n",
    "    words_set = set()\n",
    "\n",
    "    for i in range(train_size):\n",
    "        message, y = train[i]\n",
    "        classes_counter[y] += 1\n",
    "        for word in message:\n",
    "            words_set.add(word)\n",
    "            if word not in count[y]:\n",
    "                count[y][word] = 0\n",
    "            count[y][word] += 1\n",
    "\n",
    "    prior_prob = list(map(lambda x: x / train_size, classes_counter))\n",
    "    p = [\n",
    "        {w: np.log(calc_p(count[c].get(w, 0), classes_counter[c], alpha)) for w in words_set}\n",
    "        for c in range(2)\n",
    "    ]\n",
    "    rev_p = [\n",
    "        {w: np.log(1 - calc_p(count[c].get(w, 0), classes_counter[c], alpha)) for w in words_set}\n",
    "        for c in range(2)\n",
    "    ]\n",
    "    precalced_sum = [np.sum([rev_p[c][w] for w in words_set]) for c in range(2)]\n",
    "\n",
    "    test_size = len(test)\n",
    "    test_results = []\n",
    "    for i in range(test_size):\n",
    "        message, target = test[i]\n",
    "        results = [logged_lambdas[c] + np.log(prior_prob[c]) + precalced_sum[c] for c in range(2)]\n",
    "        for c in range(2):\n",
    "            for w in message:\n",
    "                results[c] -= rev_p[c].get(w, 0)\n",
    "                results[c] += p[c].get(w, 0)\n",
    "        predicted = np.argmax(results)\n",
    "        normalized = np.divide(results, np.linalg.norm(results))\n",
    "        test_results.append((predicted, target, normalized))\n",
    "    return test_results\n",
    "\n",
    "\n",
    "def calc_p(count_x, counter, alpha, q=2):\n",
    "    return (count_x + alpha) / (counter + alpha * q)\n",
    "\n",
    "\n",
    "def get_acc(results):\n",
    "    true = 0\n",
    "    cnt_false_legit = 0\n",
    "    for i in range(len(results)):\n",
    "        predicted, target, _ = results[i]\n",
    "        true += (predicted == target)\n",
    "        if target == 0 and predicted == 1:\n",
    "            cnt_false_legit += 1\n",
    "    return true / (len(results)), cnt_false_legit"
   ],
   "metadata": {
    "collapsed": false,
    "pycharm": {
     "name": "#%%\n"
    }
   }
  },
  {
   "cell_type": "code",
   "execution_count": 41,
   "outputs": [
    {
     "data": {
      "text/plain": "    accuracy  n  alpha\n9   0.977064  2  1e-10\n4   0.970642  1  1e-10\n8   0.969725  2  1e-06\n2   0.967890  1  1e-05\n3   0.967890  1  1e-06\n1   0.966055  1  1e-04\n7   0.964220  2  1e-05\n14  0.960550  3  1e-10\n0   0.958716  1  1e-03\n6   0.955046  2  1e-04\n5   0.948624  2  1e-03\n13  0.942202  3  1e-06\n12  0.933028  3  1e-05\n11  0.923853  3  1e-04\n10  0.906422  3  1e-03",
      "text/html": "<div>\n<style scoped>\n    .dataframe tbody tr th:only-of-type {\n        vertical-align: middle;\n    }\n\n    .dataframe tbody tr th {\n        vertical-align: top;\n    }\n\n    .dataframe thead th {\n        text-align: right;\n    }\n</style>\n<table border=\"1\" class=\"dataframe\">\n  <thead>\n    <tr style=\"text-align: right;\">\n      <th></th>\n      <th>accuracy</th>\n      <th>n</th>\n      <th>alpha</th>\n    </tr>\n  </thead>\n  <tbody>\n    <tr>\n      <th>9</th>\n      <td>0.977064</td>\n      <td>2</td>\n      <td>1e-10</td>\n    </tr>\n    <tr>\n      <th>4</th>\n      <td>0.970642</td>\n      <td>1</td>\n      <td>1e-10</td>\n    </tr>\n    <tr>\n      <th>8</th>\n      <td>0.969725</td>\n      <td>2</td>\n      <td>1e-06</td>\n    </tr>\n    <tr>\n      <th>2</th>\n      <td>0.967890</td>\n      <td>1</td>\n      <td>1e-05</td>\n    </tr>\n    <tr>\n      <th>3</th>\n      <td>0.967890</td>\n      <td>1</td>\n      <td>1e-06</td>\n    </tr>\n    <tr>\n      <th>1</th>\n      <td>0.966055</td>\n      <td>1</td>\n      <td>1e-04</td>\n    </tr>\n    <tr>\n      <th>7</th>\n      <td>0.964220</td>\n      <td>2</td>\n      <td>1e-05</td>\n    </tr>\n    <tr>\n      <th>14</th>\n      <td>0.960550</td>\n      <td>3</td>\n      <td>1e-10</td>\n    </tr>\n    <tr>\n      <th>0</th>\n      <td>0.958716</td>\n      <td>1</td>\n      <td>1e-03</td>\n    </tr>\n    <tr>\n      <th>6</th>\n      <td>0.955046</td>\n      <td>2</td>\n      <td>1e-04</td>\n    </tr>\n    <tr>\n      <th>5</th>\n      <td>0.948624</td>\n      <td>2</td>\n      <td>1e-03</td>\n    </tr>\n    <tr>\n      <th>13</th>\n      <td>0.942202</td>\n      <td>3</td>\n      <td>1e-06</td>\n    </tr>\n    <tr>\n      <th>12</th>\n      <td>0.933028</td>\n      <td>3</td>\n      <td>1e-05</td>\n    </tr>\n    <tr>\n      <th>11</th>\n      <td>0.923853</td>\n      <td>3</td>\n      <td>1e-04</td>\n    </tr>\n    <tr>\n      <th>10</th>\n      <td>0.906422</td>\n      <td>3</td>\n      <td>1e-03</td>\n    </tr>\n  </tbody>\n</table>\n</div>"
     },
     "execution_count": 41,
     "metadata": {},
     "output_type": "execute_result"
    }
   ],
   "source": [
    "res = main()\n",
    "res"
   ],
   "metadata": {
    "collapsed": false,
    "pycharm": {
     "name": "#%%\n"
    }
   }
  },
  {
   "cell_type": "code",
   "execution_count": 42,
   "outputs": [],
   "source": [
    "from matplotlib import pyplot as plt\n",
    "\n",
    "def draw_roc():\n",
    "    n = 2\n",
    "    table = [read_package(i) for i in range(1, 11)]\n",
    "    table = list(map(lambda pack: list(map(lambda file: get_ngrams(file, n), pack)), table))\n",
    "    all_results = []\n",
    "    for i in range(0, 10):\n",
    "        train = []\n",
    "        for j in range(0, 10):\n",
    "            if j != i:\n",
    "                train += table[j]\n",
    "        test = table[i]\n",
    "        prediction = bayes_classifier(train, test)\n",
    "        all_results += prediction\n",
    "\n",
    "    # Probability, predicted, target\n",
    "    all_results = list(map(lambda a: (a[2][1], a[0], a[1]), all_results))\n",
    "    all_results.sort(reverse=True)\n",
    "\n",
    "    spams = len(list(filter(lambda a: a[2] == 1, all_results)))\n",
    "    legits = len(all_results) - spams\n",
    "\n",
    "    x, y = [0], [0]\n",
    "    for _, predicted, target in all_results:\n",
    "        if target == 1:\n",
    "            x.append(x[-1])\n",
    "            y.append(y[-1] + (1 / spams))\n",
    "        else:\n",
    "            x.append(x[-1] + (1 / legits))\n",
    "            y.append(y[-1])\n",
    "\n",
    "    plt.plot(x, y)\n",
    "    plt.xlabel('FPR')\n",
    "    plt.ylabel('TPR')\n",
    "    plt.show()"
   ],
   "metadata": {
    "collapsed": false,
    "pycharm": {
     "name": "#%%\n"
    }
   }
  },
  {
   "cell_type": "code",
   "execution_count": 43,
   "outputs": [
    {
     "data": {
      "text/plain": "<Figure size 432x288 with 1 Axes>",
      "image/png": "[encoded data removed]"
     },
     "metadata": {
      "needs_background": "light"
     },
     "output_type": "display_data"
    }
   ],
   "source": [
    "draw_roc()"
   ],
   "metadata": {
    "collapsed": false,
    "pycharm": {
     "name": "#%%\n"
    }
   }
  },
  {
   "cell_type": "code",
   "execution_count": 44,
   "outputs": [],
   "source": [
    "def draw_plot():\n",
    "    n = 2\n",
    "    alpha = 1e-10\n",
    "    table = [read_package(i) for i in range(1, 11)]\n",
    "    table = list(map(lambda pack: list(map(lambda file: get_ngrams(file, n), pack)), table))\n",
    "\n",
    "    x = []\n",
    "    y = []\n",
    "    l = 0\n",
    "    while True:\n",
    "        score, cnt = kfold(table, alpha, [l, 0])\n",
    "        x.append(l)\n",
    "        y.append(score)\n",
    "        if cnt == 0 or l > 3000:\n",
    "            print(l)\n",
    "            print(score)\n",
    "            break\n",
    "        l += 100\n",
    "    plt.plot(x, y)\n",
    "    plt.xlabel('ln(λ.legit)')\n",
    "    plt.ylabel('accuracy')\n",
    "    plt.show()"
   ],
   "metadata": {
    "collapsed": false,
    "pycharm": {
     "name": "#%%\n"
    }
   }
  },
  {
   "cell_type": "code",
   "execution_count": 45,
   "outputs": [
    {
     "name": "stdout",
     "output_type": "stream",
     "text": [
      "1100\n",
      "0.8073394495412846\n"
     ]
    },
    {
     "data": {
      "text/plain": "<Figure size 432x288 with 1 Axes>",
      "image/png": "[encoded data removed]"
     },
     "metadata": {
      "needs_background": "light"
     },
     "output_type": "display_data"
    }
   ],
   "source": [
    "draw_plot()\n"
   ],
   "metadata": {
    "collapsed": false,
    "pycharm": {
     "name": "#%%\n"
    }
   }
  }
 ],
 "metadata": {
  "kernelspec": {
   "display_name": "Python 3",
   "language": "python",
   "name": "python3"
  },
  "language_info": {
   "codemirror_mode": {
    "name": "ipython",
    "version": 2
   },
   "file_extension": ".py",
   "mimetype": "text/x-python",
   "name": "python",
   "nbconvert_exporter": "python",
   "pygments_lexer": "ipython2",
   "version": "2.7.6"
  }
 },
 "nbformat": 4,
 "nbformat_minor": 0
}