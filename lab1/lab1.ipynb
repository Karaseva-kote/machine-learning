{
 "cells": [
  {
   "cell_type": "markdown",
   "metadata": {
    "collapsed": true,
    "pycharm": {
     "name": "#%% md\n"
    }
   },
   "source": [
    "# Лабораторная работа 1\n",
    "выполнила Карасева Екатерина M33351\n",
    "\n",
    "## Непараметрическая регрессия\n",
    "\n",
    "Цели работы:\n",
    "- практика первичных навыков обработки данных: нормализация, One-Hot преобразование;\n",
    "- сведение задачи классификации к задаче непараметрической регрессии;\n",
    "- реализация решения задачи непараметрической регрессии ядерным сглаживанием Надарая Ватсона;\n",
    "- практика наивного способа настройки и анализа гиперпараметров модели, решающей задачу непараметрической регрессии.\n",
    "\n",
    "Выбранный набор данных:\n",
    "- [car](https://www.openml.org/d/40975)"
   ]
  },
  {
   "cell_type": "code",
   "execution_count": 163,
   "outputs": [
    {
     "data": {
      "text/plain": "   COMPACTNESS  CIRCULARITY  DISTANCE_CIRCULARITY  RADIUS_RATIO  \\\n0           95           48                    83           178   \n1           91           41                    84           141   \n2          104           50                   106           209   \n3           93           41                    82           159   \n4           85           44                    70           205   \n\n   PR.AXIS_ASPECT_RATIO  MAX.LENGTH_ASPECT_RATIO  SCATTER_RATIO  \\\n0                    72                       10            162   \n1                    57                        9            149   \n2                    66                       10            207   \n3                    63                        9            144   \n4                   103                       52            149   \n\n   ELONGATEDNESS  PR.AXIS_RECTANGULARITY  MAX.LENGTH_RECTANGULARITY  \\\n0             42                      20                        159   \n1             45                      19                        143   \n2             32                      23                        158   \n3             46                      19                        143   \n4             45                      19                        144   \n\n   SCALED_VARIANCE_MAJOR  SCALED_VARIANCE_MINOR  SCALED_RADIUS_OF_GYRATION  \\\n0                    176                    379                        184   \n1                    170                    330                        158   \n2                    223                    635                        220   \n3                    160                    309                        127   \n4                    241                    325                        188   \n\n   SKEWNESS_ABOUT_MAJOR  SKEWNESS_ABOUT_MINOR  KURTOSIS_ABOUT_MAJOR  \\\n0                    70                     6                    16   \n1                    72                     9                    14   \n2                    73                    14                     9   \n3                    63                     6                    10   \n4                   127                     9                    11   \n\n   KURTOSIS_ABOUT_MINOR  HOLLOWS_RATIO Class  \n0                   187            197   van  \n1                   189            199   van  \n2                   188            196  saab  \n3                   199            207   van  \n4                   180            183   bus  ",
      "text/html": "<div>\n<style scoped>\n    .dataframe tbody tr th:only-of-type {\n        vertical-align: middle;\n    }\n\n    .dataframe tbody tr th {\n        vertical-align: top;\n    }\n\n    .dataframe thead th {\n        text-align: right;\n    }\n</style>\n<table border=\"1\" class=\"dataframe\">\n  <thead>\n    <tr style=\"text-align: right;\">\n      <th></th>\n      <th>COMPACTNESS</th>\n      <th>CIRCULARITY</th>\n      <th>DISTANCE_CIRCULARITY</th>\n      <th>RADIUS_RATIO</th>\n      <th>PR.AXIS_ASPECT_RATIO</th>\n      <th>MAX.LENGTH_ASPECT_RATIO</th>\n      <th>SCATTER_RATIO</th>\n      <th>ELONGATEDNESS</th>\n      <th>PR.AXIS_RECTANGULARITY</th>\n      <th>MAX.LENGTH_RECTANGULARITY</th>\n      <th>SCALED_VARIANCE_MAJOR</th>\n      <th>SCALED_VARIANCE_MINOR</th>\n      <th>SCALED_RADIUS_OF_GYRATION</th>\n      <th>SKEWNESS_ABOUT_MAJOR</th>\n      <th>SKEWNESS_ABOUT_MINOR</th>\n      <th>KURTOSIS_ABOUT_MAJOR</th>\n      <th>KURTOSIS_ABOUT_MINOR</th>\n      <th>HOLLOWS_RATIO</th>\n      <th>Class</th>\n    </tr>\n  </thead>\n  <tbody>\n    <tr>\n      <th>0</th>\n      <td>95</td>\n      <td>48</td>\n      <td>83</td>\n      <td>178</td>\n      <td>72</td>\n      <td>10</td>\n      <td>162</td>\n      <td>42</td>\n      <td>20</td>\n      <td>159</td>\n      <td>176</td>\n      <td>379</td>\n      <td>184</td>\n      <td>70</td>\n      <td>6</td>\n      <td>16</td>\n      <td>187</td>\n      <td>197</td>\n      <td>van</td>\n    </tr>\n    <tr>\n      <th>1</th>\n      <td>91</td>\n      <td>41</td>\n      <td>84</td>\n      <td>141</td>\n      <td>57</td>\n      <td>9</td>\n      <td>149</td>\n      <td>45</td>\n      <td>19</td>\n      <td>143</td>\n      <td>170</td>\n      <td>330</td>\n      <td>158</td>\n      <td>72</td>\n      <td>9</td>\n      <td>14</td>\n      <td>189</td>\n      <td>199</td>\n      <td>van</td>\n    </tr>\n    <tr>\n      <th>2</th>\n      <td>104</td>\n      <td>50</td>\n      <td>106</td>\n      <td>209</td>\n      <td>66</td>\n      <td>10</td>\n      <td>207</td>\n      <td>32</td>\n      <td>23</td>\n      <td>158</td>\n      <td>223</td>\n      <td>635</td>\n      <td>220</td>\n      <td>73</td>\n      <td>14</td>\n      <td>9</td>\n      <td>188</td>\n      <td>196</td>\n      <td>saab</td>\n    </tr>\n    <tr>\n      <th>3</th>\n      <td>93</td>\n      <td>41</td>\n      <td>82</td>\n      <td>159</td>\n      <td>63</td>\n      <td>9</td>\n      <td>144</td>\n      <td>46</td>\n      <td>19</td>\n      <td>143</td>\n      <td>160</td>\n      <td>309</td>\n      <td>127</td>\n      <td>63</td>\n      <td>6</td>\n      <td>10</td>\n      <td>199</td>\n      <td>207</td>\n      <td>van</td>\n    </tr>\n    <tr>\n      <th>4</th>\n      <td>85</td>\n      <td>44</td>\n      <td>70</td>\n      <td>205</td>\n      <td>103</td>\n      <td>52</td>\n      <td>149</td>\n      <td>45</td>\n      <td>19</td>\n      <td>144</td>\n      <td>241</td>\n      <td>325</td>\n      <td>188</td>\n      <td>127</td>\n      <td>9</td>\n      <td>11</td>\n      <td>180</td>\n      <td>183</td>\n      <td>bus</td>\n    </tr>\n  </tbody>\n</table>\n</div>"
     },
     "execution_count": 163,
     "metadata": {},
     "output_type": "execute_result"
    }
   ],
   "source": [
    "import pandas as pd\n",
    "\n",
    "ds = pd.read_csv('dataset_54_vehicle.csv')\n",
    "ds.head()"
   ],
   "metadata": {
    "collapsed": false,
    "pycharm": {
     "name": "#%%\n"
    }
   }
  },
  {
   "cell_type": "markdown",
   "source": [
    "### Сведение к задаче регрессии и обработка данных\n",
    "Перейдите от задачи классификации к задаче регрессии, используя OneHot преобразование.\n",
    "Вместо одного целевого признака в выбранный набор данных добавляется столько новых числовых переменных,\n",
    "сколько в нём содержится классов. Помимо этого, если выбранный Вами набор данных содержит нечисловые признаки,\n",
    "эти признаки необходимо векторизовать (перейти от категорий к числам), заполнить пропуски (если есть) и нормализовать.\n",
    "В наборе данных bridges также необходимо избавиться от столбца IDENTIF, поскольку он является идентификатором записи."
   ],
   "metadata": {
    "collapsed": false,
    "pycharm": {
     "name": "#%% md\n"
    }
   }
  },
  {
   "cell_type": "code",
   "execution_count": 164,
   "outputs": [],
   "source": [
    "dictionary = {\n",
    "    'opel': '0 0 0 1',\n",
    "    'saab': '0 0 1 0',\n",
    "    'bus': '0 1 0 0',\n",
    "    'van': '1 0 0 0'\n",
    "}\n",
    "\n",
    "ds.Class = ds.Class.apply(lambda c: dictionary[c])"
   ],
   "metadata": {
    "collapsed": false,
    "pycharm": {
     "name": "#%%\n"
    }
   }
  },
  {
   "cell_type": "code",
   "execution_count": 165,
   "outputs": [
    {
     "data": {
      "text/plain": "   COMPACTNESS  CIRCULARITY  DISTANCE_CIRCULARITY  RADIUS_RATIO  \\\n0           95           48                    83           178   \n1           91           41                    84           141   \n2          104           50                   106           209   \n3           93           41                    82           159   \n4           85           44                    70           205   \n\n   PR.AXIS_ASPECT_RATIO  MAX.LENGTH_ASPECT_RATIO  SCATTER_RATIO  \\\n0                    72                       10            162   \n1                    57                        9            149   \n2                    66                       10            207   \n3                    63                        9            144   \n4                   103                       52            149   \n\n   ELONGATEDNESS  PR.AXIS_RECTANGULARITY  MAX.LENGTH_RECTANGULARITY  ...  \\\n0             42                      20                        159  ...   \n1             45                      19                        143  ...   \n2             32                      23                        158  ...   \n3             46                      19                        143  ...   \n4             45                      19                        144  ...   \n\n   SCALED_RADIUS_OF_GYRATION  SKEWNESS_ABOUT_MAJOR  SKEWNESS_ABOUT_MINOR  \\\n0                        184                    70                     6   \n1                        158                    72                     9   \n2                        220                    73                    14   \n3                        127                    63                     6   \n4                        188                   127                     9   \n\n   KURTOSIS_ABOUT_MAJOR  KURTOSIS_ABOUT_MINOR  HOLLOWS_RATIO  col1  col2  \\\n0                    16                   187            197     1     0   \n1                    14                   189            199     1     0   \n2                     9                   188            196     0     0   \n3                    10                   199            207     1     0   \n4                    11                   180            183     0     1   \n\n   col3  col4  \n0     0     0  \n1     0     0  \n2     1     0  \n3     0     0  \n4     0     0  \n\n[5 rows x 22 columns]",
      "text/html": "<div>\n<style scoped>\n    .dataframe tbody tr th:only-of-type {\n        vertical-align: middle;\n    }\n\n    .dataframe tbody tr th {\n        vertical-align: top;\n    }\n\n    .dataframe thead th {\n        text-align: right;\n    }\n</style>\n<table border=\"1\" class=\"dataframe\">\n  <thead>\n    <tr style=\"text-align: right;\">\n      <th></th>\n      <th>COMPACTNESS</th>\n      <th>CIRCULARITY</th>\n      <th>DISTANCE_CIRCULARITY</th>\n      <th>RADIUS_RATIO</th>\n      <th>PR.AXIS_ASPECT_RATIO</th>\n      <th>MAX.LENGTH_ASPECT_RATIO</th>\n      <th>SCATTER_RATIO</th>\n      <th>ELONGATEDNESS</th>\n      <th>PR.AXIS_RECTANGULARITY</th>\n      <th>MAX.LENGTH_RECTANGULARITY</th>\n      <th>...</th>\n      <th>SCALED_RADIUS_OF_GYRATION</th>\n      <th>SKEWNESS_ABOUT_MAJOR</th>\n      <th>SKEWNESS_ABOUT_MINOR</th>\n      <th>KURTOSIS_ABOUT_MAJOR</th>\n      <th>KURTOSIS_ABOUT_MINOR</th>\n      <th>HOLLOWS_RATIO</th>\n      <th>col1</th>\n      <th>col2</th>\n      <th>col3</th>\n      <th>col4</th>\n    </tr>\n  </thead>\n  <tbody>\n    <tr>\n      <th>0</th>\n      <td>95</td>\n      <td>48</td>\n      <td>83</td>\n      <td>178</td>\n      <td>72</td>\n      <td>10</td>\n      <td>162</td>\n      <td>42</td>\n      <td>20</td>\n      <td>159</td>\n      <td>...</td>\n      <td>184</td>\n      <td>70</td>\n      <td>6</td>\n      <td>16</td>\n      <td>187</td>\n      <td>197</td>\n      <td>1</td>\n      <td>0</td>\n      <td>0</td>\n      <td>0</td>\n    </tr>\n    <tr>\n      <th>1</th>\n      <td>91</td>\n      <td>41</td>\n      <td>84</td>\n      <td>141</td>\n      <td>57</td>\n      <td>9</td>\n      <td>149</td>\n      <td>45</td>\n      <td>19</td>\n      <td>143</td>\n      <td>...</td>\n      <td>158</td>\n      <td>72</td>\n      <td>9</td>\n      <td>14</td>\n      <td>189</td>\n      <td>199</td>\n      <td>1</td>\n      <td>0</td>\n      <td>0</td>\n      <td>0</td>\n    </tr>\n    <tr>\n      <th>2</th>\n      <td>104</td>\n      <td>50</td>\n      <td>106</td>\n      <td>209</td>\n      <td>66</td>\n      <td>10</td>\n      <td>207</td>\n      <td>32</td>\n      <td>23</td>\n      <td>158</td>\n      <td>...</td>\n      <td>220</td>\n      <td>73</td>\n      <td>14</td>\n      <td>9</td>\n      <td>188</td>\n      <td>196</td>\n      <td>0</td>\n      <td>0</td>\n      <td>1</td>\n      <td>0</td>\n    </tr>\n    <tr>\n      <th>3</th>\n      <td>93</td>\n      <td>41</td>\n      <td>82</td>\n      <td>159</td>\n      <td>63</td>\n      <td>9</td>\n      <td>144</td>\n      <td>46</td>\n      <td>19</td>\n      <td>143</td>\n      <td>...</td>\n      <td>127</td>\n      <td>63</td>\n      <td>6</td>\n      <td>10</td>\n      <td>199</td>\n      <td>207</td>\n      <td>1</td>\n      <td>0</td>\n      <td>0</td>\n      <td>0</td>\n    </tr>\n    <tr>\n      <th>4</th>\n      <td>85</td>\n      <td>44</td>\n      <td>70</td>\n      <td>205</td>\n      <td>103</td>\n      <td>52</td>\n      <td>149</td>\n      <td>45</td>\n      <td>19</td>\n      <td>144</td>\n      <td>...</td>\n      <td>188</td>\n      <td>127</td>\n      <td>9</td>\n      <td>11</td>\n      <td>180</td>\n      <td>183</td>\n      <td>0</td>\n      <td>1</td>\n      <td>0</td>\n      <td>0</td>\n    </tr>\n  </tbody>\n</table>\n<p>5 rows × 22 columns</p>\n</div>"
     },
     "execution_count": 165,
     "metadata": {},
     "output_type": "execute_result"
    }
   ],
   "source": [
    "# one-hot\n",
    "ds['col1'] = ds.Class.str.split(' ').str.get(0).apply(int)\n",
    "ds['col2'] = ds.Class.str.split(' ').str.get(1).apply(int)\n",
    "ds['col3'] = ds.Class.str.split(' ').str.get(2).apply(int)\n",
    "ds['col4'] = ds.Class.str.split(' ').str.get(3).apply(int)\n",
    "ds = ds.drop(columns='Class')\n",
    "ds.head()"
   ],
   "metadata": {
    "collapsed": false,
    "pycharm": {
     "name": "#%%\n"
    }
   }
  },
  {
   "cell_type": "code",
   "execution_count": 180,
   "outputs": [
    {
     "data": {
      "text/plain": "   COMPACTNESS  CIRCULARITY  DISTANCE_CIRCULARITY  RADIUS_RATIO  \\\n0     0.478261     0.576923              0.597222      0.323144   \n1     0.391304     0.307692              0.611111      0.161572   \n2     0.673913     0.653846              0.916667      0.458515   \n3     0.434783     0.307692              0.583333      0.240175   \n4     0.260870     0.423077              0.416667      0.441048   \n\n   PR.AXIS_ASPECT_RATIO  MAX.LENGTH_ASPECT_RATIO  SCATTER_RATIO  \\\n0              0.274725                 0.150943       0.326797   \n1              0.109890                 0.132075       0.241830   \n2              0.208791                 0.150943       0.620915   \n3              0.175824                 0.132075       0.209150   \n4              0.615385                 0.943396       0.241830   \n\n   ELONGATEDNESS  PR.AXIS_RECTANGULARITY  MAX.LENGTH_RECTANGULARITY  ...  \\\n0       0.457143                0.250000                   0.585714  ...   \n1       0.542857                0.166667                   0.357143  ...   \n2       0.171429                0.500000                   0.571429  ...   \n3       0.571429                0.166667                   0.357143  ...   \n4       0.542857                0.166667                   0.371429  ...   \n\n   SCALED_RADIUS_OF_GYRATION  SKEWNESS_ABOUT_MAJOR  SKEWNESS_ABOUT_MINOR  \\\n0                   0.471698              0.144737              0.272727   \n1                   0.308176              0.171053              0.409091   \n2                   0.698113              0.184211              0.636364   \n3                   0.113208              0.052632              0.272727   \n4                   0.496855              0.894737              0.409091   \n\n   KURTOSIS_ABOUT_MAJOR  KURTOSIS_ABOUT_MINOR  HOLLOWS_RATIO  col1  col2  \\\n0              0.390244              0.366667       0.533333   1.0   0.0   \n1              0.341463              0.433333       0.600000   1.0   0.0   \n2              0.219512              0.400000       0.500000   0.0   0.0   \n3              0.243902              0.766667       0.866667   1.0   0.0   \n4              0.268293              0.133333       0.066667   0.0   1.0   \n\n   col3  col4  \n0   0.0   0.0  \n1   0.0   0.0  \n2   1.0   0.0  \n3   0.0   0.0  \n4   0.0   0.0  \n\n[5 rows x 22 columns]",
      "text/html": "<div>\n<style scoped>\n    .dataframe tbody tr th:only-of-type {\n        vertical-align: middle;\n    }\n\n    .dataframe tbody tr th {\n        vertical-align: top;\n    }\n\n    .dataframe thead th {\n        text-align: right;\n    }\n</style>\n<table border=\"1\" class=\"dataframe\">\n  <thead>\n    <tr style=\"text-align: right;\">\n      <th></th>\n      <th>COMPACTNESS</th>\n      <th>CIRCULARITY</th>\n      <th>DISTANCE_CIRCULARITY</th>\n      <th>RADIUS_RATIO</th>\n      <th>PR.AXIS_ASPECT_RATIO</th>\n      <th>MAX.LENGTH_ASPECT_RATIO</th>\n      <th>SCATTER_RATIO</th>\n      <th>ELONGATEDNESS</th>\n      <th>PR.AXIS_RECTANGULARITY</th>\n      <th>MAX.LENGTH_RECTANGULARITY</th>\n      <th>...</th>\n      <th>SCALED_RADIUS_OF_GYRATION</th>\n      <th>SKEWNESS_ABOUT_MAJOR</th>\n      <th>SKEWNESS_ABOUT_MINOR</th>\n      <th>KURTOSIS_ABOUT_MAJOR</th>\n      <th>KURTOSIS_ABOUT_MINOR</th>\n      <th>HOLLOWS_RATIO</th>\n      <th>col1</th>\n      <th>col2</th>\n      <th>col3</th>\n      <th>col4</th>\n    </tr>\n  </thead>\n  <tbody>\n    <tr>\n      <th>0</th>\n      <td>0.478261</td>\n      <td>0.576923</td>\n      <td>0.597222</td>\n      <td>0.323144</td>\n      <td>0.274725</td>\n      <td>0.150943</td>\n      <td>0.326797</td>\n      <td>0.457143</td>\n      <td>0.250000</td>\n      <td>0.585714</td>\n      <td>...</td>\n      <td>0.471698</td>\n      <td>0.144737</td>\n      <td>0.272727</td>\n      <td>0.390244</td>\n      <td>0.366667</td>\n      <td>0.533333</td>\n      <td>1.0</td>\n      <td>0.0</td>\n      <td>0.0</td>\n      <td>0.0</td>\n    </tr>\n    <tr>\n      <th>1</th>\n      <td>0.391304</td>\n      <td>0.307692</td>\n      <td>0.611111</td>\n      <td>0.161572</td>\n      <td>0.109890</td>\n      <td>0.132075</td>\n      <td>0.241830</td>\n      <td>0.542857</td>\n      <td>0.166667</td>\n      <td>0.357143</td>\n      <td>...</td>\n      <td>0.308176</td>\n      <td>0.171053</td>\n      <td>0.409091</td>\n      <td>0.341463</td>\n      <td>0.433333</td>\n      <td>0.600000</td>\n      <td>1.0</td>\n      <td>0.0</td>\n      <td>0.0</td>\n      <td>0.0</td>\n    </tr>\n    <tr>\n      <th>2</th>\n      <td>0.673913</td>\n      <td>0.653846</td>\n      <td>0.916667</td>\n      <td>0.458515</td>\n      <td>0.208791</td>\n      <td>0.150943</td>\n      <td>0.620915</td>\n      <td>0.171429</td>\n      <td>0.500000</td>\n      <td>0.571429</td>\n      <td>...</td>\n      <td>0.698113</td>\n      <td>0.184211</td>\n      <td>0.636364</td>\n      <td>0.219512</td>\n      <td>0.400000</td>\n      <td>0.500000</td>\n      <td>0.0</td>\n      <td>0.0</td>\n      <td>1.0</td>\n      <td>0.0</td>\n    </tr>\n    <tr>\n      <th>3</th>\n      <td>0.434783</td>\n      <td>0.307692</td>\n      <td>0.583333</td>\n      <td>0.240175</td>\n      <td>0.175824</td>\n      <td>0.132075</td>\n      <td>0.209150</td>\n      <td>0.571429</td>\n      <td>0.166667</td>\n      <td>0.357143</td>\n      <td>...</td>\n      <td>0.113208</td>\n      <td>0.052632</td>\n      <td>0.272727</td>\n      <td>0.243902</td>\n      <td>0.766667</td>\n      <td>0.866667</td>\n      <td>1.0</td>\n      <td>0.0</td>\n      <td>0.0</td>\n      <td>0.0</td>\n    </tr>\n    <tr>\n      <th>4</th>\n      <td>0.260870</td>\n      <td>0.423077</td>\n      <td>0.416667</td>\n      <td>0.441048</td>\n      <td>0.615385</td>\n      <td>0.943396</td>\n      <td>0.241830</td>\n      <td>0.542857</td>\n      <td>0.166667</td>\n      <td>0.371429</td>\n      <td>...</td>\n      <td>0.496855</td>\n      <td>0.894737</td>\n      <td>0.409091</td>\n      <td>0.268293</td>\n      <td>0.133333</td>\n      <td>0.066667</td>\n      <td>0.0</td>\n      <td>1.0</td>\n      <td>0.0</td>\n      <td>0.0</td>\n    </tr>\n  </tbody>\n</table>\n<p>5 rows × 22 columns</p>\n</div>"
     },
     "execution_count": 180,
     "metadata": {},
     "output_type": "execute_result"
    }
   ],
   "source": [
    "# normalise\n",
    "import numpy as np\n",
    "\n",
    "def normalise(arr):\n",
    "    min = np.min(arr)\n",
    "    max = np.max(arr)\n",
    "    return arr.apply(lambda x: (x - min) / (max - min))\n",
    "\n",
    "\n",
    "for i in ds.columns:\n",
    "    ds[i] = normalise(ds[i])\n",
    "ds.head()"
   ],
   "metadata": {
    "collapsed": false,
    "pycharm": {
     "name": "#%%\n"
    }
   }
  },
  {
   "cell_type": "code",
   "execution_count": 167,
   "outputs": [],
   "source": [
    "# признаки и таргет\n",
    "x = ds.drop(columns=['col1', 'col2', 'col3', 'col4']).head(100)\n",
    "y = ds[['col1', 'col2', 'col3', 'col4']].head(100)"
   ],
   "metadata": {
    "collapsed": false,
    "pycharm": {
     "name": "#%%\n"
    }
   }
  },
  {
   "cell_type": "markdown",
   "source": [
    "### Реализация алгоритма\n",
    "\n",
    "Реализуйте алгоритм решения задачи непареметрической регрессии при помощи ядерного сглаживания Надарая-Ватсона."
   ],
   "metadata": {
    "collapsed": false,
    "pycharm": {
     "name": "#%% md\n"
    }
   }
  },
  {
   "cell_type": "code",
   "execution_count": 168,
   "outputs": [],
   "source": [
    "def non_param_regh(x, train_x, train_y, k, ro, h):\n",
    "    sum1 = [0, 0, 0, 0]\n",
    "    sum2 = 0\n",
    "    for i in range(0, train_x.shape[0]):\n",
    "        sum1 += train_y[i] * k(ro(train_x[i], x) / h(train_x[i]))\n",
    "        sum2 += k(ro(train_x[i], x) / h(train_x[i]))\n",
    "    return sum1 / sum2"
   ],
   "metadata": {
    "collapsed": false,
    "pycharm": {
     "name": "#%%\n"
    }
   }
  },
  {
   "cell_type": "markdown",
   "source": [
    "### Настройка гиперпараметров\n",
    "\n",
    "Найдите лучшую комбинацию гиперпараметров алгоритма непараметрической регрессии:"
   ],
   "metadata": {
    "collapsed": false,
    "pycharm": {
     "name": "#%% md\n"
    }
   }
  },
  {
   "cell_type": "code",
   "execution_count": 169,
   "outputs": [
    {
     "name": "stdout",
     "output_type": "stream",
     "text": [
      "0\n",
      "1\n",
      "2\n"
     ]
    }
   ],
   "source": [
    "# функция ядра\n",
    "funK = [lambda u: 1 / 2,  # uniform\n",
    "        lambda u: (1 - np.abs(u)),  # triangular\n",
    "        lambda u: (3 / 4) * (1 - u * u),  # epanechnikov\n",
    "        lambda u: (15 / 16) * (1 - u * u) * (1 - u * u)  # quartic\n",
    "        ]\n",
    "\n",
    "funRo = [lambda x1, x2: np.sqrt(np.sum(np.square(x1 - x2))),  # расстояние Евклида\n",
    "         lambda x1, x2: np.sum(np.abs(x1 - x2)),  # расстояние Манхэттена\n",
    "         lambda x1, x2: np.max(np.abs(x1 - x2))  # расстояние Чебышева\n",
    "         ]\n",
    "\n",
    "import itertools\n",
    "\n",
    "def leave_one_out(k, ro, h):\n",
    "    f_measure = 0\n",
    "    for i in range(0, x.shape[0]):\n",
    "        train_x = x.drop(i, axis=0)\n",
    "        train_y = y.drop(i, axis=0)\n",
    "        if numpy_y[i][np.argmax(non_param_regh(numpy_x[i], train_x.to_numpy(), train_y.to_numpy(), k, ro, h))] == 1 :\n",
    "            f_measure += 1\n",
    "    return f_measure/x.shape[0]\n",
    "\n",
    "numpy_x = x.to_numpy()\n",
    "numpy_y = y.to_numpy()\n",
    "\n",
    "def select_param():\n",
    "    maxF = 0\n",
    "    bestK = 0\n",
    "    bestRo = 0\n",
    "    bestTypeH = 'fixed'\n",
    "    bestH = -1\n",
    "    for i in range(0, len(funRo)):\n",
    "        print(i)\n",
    "        for j in range(0, len(funK)):\n",
    "            # print(j)\n",
    "            # окно, зависящее от количества соседей\n",
    "            k = 1\n",
    "            while k < np.sqrt(numpy_x.shape[0]):\n",
    "                # print('k = ' + str(k))\n",
    "                h = lambda x1: sorted(map(lambda k: funRo[i](k, x1), numpy_x))[k]\n",
    "                cur = leave_one_out(funK[j], funRo[i], h)\n",
    "                if maxF < cur:\n",
    "                    bestK = j\n",
    "                    bestRo = i\n",
    "                    bestTypeH = 'neighbors'\n",
    "                    bestH = k\n",
    "                    maxF = cur\n",
    "                k += 1\n",
    "            # фиксированное окно\n",
    "            r = np.max(list(map(lambda p: funRo[i](p[0], p[1]), itertools.product(numpy_x, numpy_x))))\n",
    "            h = r / np.sqrt(numpy_x.shape[0])\n",
    "            while h < r:\n",
    "                # print('h = ' + str(h))\n",
    "                cur = leave_one_out(funK[j], funRo[i], lambda x1: h)\n",
    "                if maxF < cur:\n",
    "                    bestK = j\n",
    "                    bestRo = i\n",
    "                    bestTypeH = 'fixed'\n",
    "                    bestH = h\n",
    "                    maxF = cur\n",
    "                h += r / np.sqrt(numpy_x.shape[0])\n",
    "    return [maxF, bestK, bestRo, bestTypeH, bestH]\n",
    "\n",
    "result = select_param()\n",
    "\n",
    "# y1 = np.array([[0, 0, 0, 1], [1, 0, 0, 0], [0, 1, 0, 0]])\n",
    "# x1 = np.array([[0.5, 1, 0.7, 1, 1], [0.8, 0.2, 0.6, 0.5, 0.9], [0.1, 1, 0.4, 0, 0.8]])\n",
    "#\n",
    "# res = non_param_regh(np.array((0.8, 0.5, 0.1, 0.3, 1)), x1, y1, funK[0], funRo[0], lambda x4: 1)"
   ],
   "metadata": {
    "collapsed": false,
    "pycharm": {
     "name": "#%%\n"
    }
   }
  },
  {
   "cell_type": "code",
   "execution_count": 181,
   "outputs": [
    {
     "name": "stdout",
     "output_type": "stream",
     "text": [
      "best f_measure = 0.43\n",
      "best K function = triangular\n",
      "best Ro function = расстояние Чебышева\n",
      "best window type = fixed\n",
      "window 0.8999999999999999\n"
     ]
    }
   ],
   "source": [
    "funKName = ['uniform', 'triangular', 'epanechnikov', 'quartic']\n",
    "funRoName = ['расстояние Евклида', 'расстояние Манхэттена', 'расстояние Чебышева']\n",
    "print('best f_measure = ' + str(result[0]))\n",
    "print('best K function = ' + funKName[result[1]])\n",
    "print('best Ro function = ' + funRoName[result[2]])\n",
    "print('best window type = ' + result[3])\n",
    "print('window ' + str(result[4]))"
   ],
   "metadata": {
    "collapsed": false,
    "pycharm": {
     "name": "#%%\n"
    }
   }
  },
  {
   "cell_type": "code",
   "execution_count": 171,
   "outputs": [],
   "source": [
    "f_values = []\n",
    "r = np.max(list(map(lambda p: funRo[result[2]](p[0], p[1]), itertools.product(numpy_x, numpy_x))))\n",
    "h = r / np.sqrt(numpy_x.shape[0])\n",
    "while h < r:\n",
    "    f_values.append(leave_one_out(funK[result[1]], funRo[result[2]], lambda x1: h))\n",
    "    h += r / np.sqrt(numpy_x.shape[0])"
   ],
   "metadata": {
    "collapsed": false,
    "pycharm": {
     "name": "#%%\n"
    }
   }
  },
  {
   "cell_type": "code",
   "execution_count": 172,
   "outputs": [
    {
     "data": {
      "text/plain": "<Figure size 432x288 with 1 Axes>",
      "image/png": "[encoded data removed]"
     },
     "metadata": {
      "needs_background": "light"
     },
     "output_type": "display_data"
    }
   ],
   "source": [
    "import math\n",
    "import matplotlib.pyplot as plt\n",
    "\n",
    "sqrt = math.sqrt(len(x))\n",
    "hs = range (1, round(sqrt) + 1)\n",
    "hs = hs * r / sqrt\n",
    "\n",
    "plt.plot(f_values, hs)\n",
    "plt.xlabel(\"f-measure\")\n",
    "plt.ylabel(\"window\")\n",
    "plt.show()"
   ],
   "metadata": {
    "collapsed": false,
    "pycharm": {
     "name": "#%%\n"
    }
   }
  }
 ],
 "metadata": {
  "kernelspec": {
   "display_name": "Python 3",
   "language": "python",
   "name": "python3"
  },
  "language_info": {
   "codemirror_mode": {
    "name": "ipython",
    "version": 2
   },
   "file_extension": ".py",
   "mimetype": "text/x-python",
   "name": "python",
   "nbconvert_exporter": "python",
   "pygments_lexer": "ipython2",
   "version": "2.7.6"
  }
 },
 "nbformat": 4,
 "nbformat_minor": 0
}